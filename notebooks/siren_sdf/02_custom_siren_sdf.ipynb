{
 "cells": [
  {
   "cell_type": "code",
   "execution_count": 1,
   "id": "92fc17c1-94e8-41de-ae7a-7f6eaba1cdd8",
   "metadata": {},
   "outputs": [
    {
     "name": "stdout",
     "output_type": "stream",
     "text": [
      "Fri Apr 21 15:25:33 2023       \n",
      "+-----------------------------------------------------------------------------+\n",
      "| NVIDIA-SMI 510.47.03    Driver Version: 510.47.03    CUDA Version: 11.6     |\n",
      "|-------------------------------+----------------------+----------------------+\n",
      "| GPU  Name        Persistence-M| Bus-Id        Disp.A | Volatile Uncorr. ECC |\n",
      "| Fan  Temp  Perf  Pwr:Usage/Cap|         Memory-Usage | GPU-Util  Compute M. |\n",
      "|                               |                      |               MIG M. |\n",
      "|===============================+======================+======================|\n",
      "|   0  Tesla T4            Off  | 00000000:00:04.0 Off |                    0 |\n",
      "| N/A   77C    P0    70W /  70W |  12337MiB / 15360MiB |     99%      Default |\n",
      "|                               |                      |                  N/A |\n",
      "+-------------------------------+----------------------+----------------------+\n",
      "|   1  Tesla T4            Off  | 00000000:00:05.0 Off |                    0 |\n",
      "| N/A   67C    P8    18W /  70W |      2MiB / 15360MiB |      0%      Default |\n",
      "|                               |                      |                  N/A |\n",
      "+-------------------------------+----------------------+----------------------+\n",
      "                                                                               \n",
      "+-----------------------------------------------------------------------------+\n",
      "| Processes:                                                                  |\n",
      "|  GPU   GI   CI        PID   Type   Process name                  GPU Memory |\n",
      "|        ID   ID                                                   Usage      |\n",
      "|=============================================================================|\n",
      "|    0   N/A  N/A   4140049      C                                   12335MiB |\n",
      "+-----------------------------------------------------------------------------+\n"
     ]
    }
   ],
   "source": [
    "!nvidia-smi"
   ]
  },
  {
   "cell_type": "code",
   "execution_count": 2,
   "id": "dfac8737-d51c-453d-97c9-5717097b1338",
   "metadata": {},
   "outputs": [],
   "source": [
    "%load_ext autoreload\n",
    "%autoreload 2"
   ]
  },
  {
   "cell_type": "code",
   "execution_count": 3,
   "id": "e8f2e64a-84ff-470d-95e1-2eab7d2d748f",
   "metadata": {},
   "outputs": [],
   "source": [
    "import torch\n",
    "from pathlib import Path\n",
    "Path.ls = lambda x: list(x.iterdir())\n",
    "\n",
    "try:\n",
    "    import lovely_tensors as lt\n",
    "except:\n",
    "    ! pip install --upgrade lovely-tensors\n",
    "    import lovely_tensors as lt\n",
    "    \n",
    "lt.monkey_patch()"
   ]
  },
  {
   "cell_type": "code",
   "execution_count": 4,
   "id": "92aebcd9-30cd-4c28-b283-806dad5b675a",
   "metadata": {},
   "outputs": [],
   "source": [
    "# !rm -rf /app/notebooks/siren_sdf/checkpoints/*"
   ]
  },
  {
   "cell_type": "code",
   "execution_count": 5,
   "id": "7644209f-15fc-4746-a838-ffd313519864",
   "metadata": {},
   "outputs": [],
   "source": [
    "config = {\n",
    "    \"device\": torch.device(\"cuda:1\") if torch.cuda.is_available() else torch.device(\"cpu\"),\n",
    "    \"wandb_project\": \"siren_sdf\",\n",
    "    \"experiment_name\": \"uber_sdf_normal_init_baseline\",\n",
    "    \"logging\": True,\n",
    "    \"point_cloud_path\": \"data/interior_room.xyz\",\n",
    "    \"batch_size\": 25_000,\n",
    "    \"lr\": 1e-4,\n",
    "    \"clip_grad\": True,\n",
    "    \"checkpoint_dir\": Path('checkpoints/'),\n",
    "    \"save_ckpt_freq\": 5_000,\n",
    "    \"vis_freq\": 2_500,\n",
    "    \"epochs\": 100,\n",
    "    \"net_type\": 'sine' #'sine' #'split_act'\n",
    "    # \"load_from_checkpoint_path\": Path('/app/notebooks/siren_sdf/top_checkpoints/siren_sdf_siren_sdf_baseline_2040_836809.pth') \n",
    "    # \"load_from_checkpoint_path\": Path('/app/notebooks/siren_sdf/top_checkpoints/siren_sdf_siren_sdf_baseline_99_41000.pth') \n",
    "}\n",
    "\n",
    "config[\"checkpoint_dir\"].mkdir(exist_ok=True, parents=True)"
   ]
  },
  {
   "cell_type": "markdown",
   "id": "3eb866fa-7570-4f99-b3b6-5d4f042be7e5",
   "metadata": {
    "tags": []
   },
   "source": [
    "# Train SDF"
   ]
  },
  {
   "cell_type": "code",
   "execution_count": 6,
   "id": "99878c34-3e1a-4e25-acb4-e6ef97630795",
   "metadata": {},
   "outputs": [],
   "source": [
    "import src.dataio as dataio\n",
    "from torch.utils.data import DataLoader\n",
    "from src.utils import get_sdf_summary\n",
    "from src.sdf_meshing import create_mesh"
   ]
  },
  {
   "cell_type": "code",
   "execution_count": 7,
   "id": "42596fdd-47f6-406e-8ac0-06dd8f6e12db",
   "metadata": {},
   "outputs": [
    {
     "name": "stdout",
     "output_type": "stream",
     "text": [
      "Loading point cloud\n",
      "Finished loading point cloud\n"
     ]
    }
   ],
   "source": [
    "sdf_dataset = dataio.PointCloud(config['point_cloud_path'], on_surface_points=config['batch_size'])\n",
    "dataloader = DataLoader(sdf_dataset, shuffle=True, batch_size=1, pin_memory=True, num_workers=0)"
   ]
  },
  {
   "cell_type": "code",
   "execution_count": 8,
   "id": "ad0dc356-6a33-4f32-a1bb-ef15522583e4",
   "metadata": {
    "tags": []
   },
   "outputs": [],
   "source": [
    "from src.nn_modules import SingleBVPNet\n",
    "    \n",
    "model = SingleBVPNet(type=config['net_type'], in_features=3).to(config['device'])\n",
    "# if config.get('load_from_checkpoint_path') is not None and Path(config['load_from_checkpoint_path']).exists():\n",
    "#     model.load_state_dict(torch.load(config['load_from_checkpoint_path']))"
   ]
  },
  {
   "cell_type": "code",
   "execution_count": 9,
   "id": "ab120c85-f958-4d33-8339-b0041159fb95",
   "metadata": {},
   "outputs": [],
   "source": [
    "from src.loss_functions import sdf\n",
    "\n",
    "optimizer = torch.optim.Adam(lr=config['lr'], params=model.parameters())"
   ]
  },
  {
   "cell_type": "code",
   "execution_count": 10,
   "id": "85448d85-985e-4dac-9b40-6a9a60d8c461",
   "metadata": {},
   "outputs": [
    {
     "name": "stderr",
     "output_type": "stream",
     "text": [
      "\u001b[34m\u001b[1mwandb\u001b[0m: Currently logged in as: \u001b[33mnerlfield\u001b[0m. Use \u001b[1m`wandb login --relogin`\u001b[0m to force relogin\n",
      "2023-04-21 15:26:43.503896: W tensorflow/stream_executor/platform/default/dso_loader.cc:64] Could not load dynamic library 'libcudart.so.11.0'; dlerror: libcudart.so.11.0: cannot open shared object file: No such file or directory; LD_LIBRARY_PATH: /usr/local/nvidia/lib:/usr/local/nvidia/lib64\n",
      "2023-04-21 15:26:43.503946: I tensorflow/stream_executor/cuda/cudart_stub.cc:29] Ignore above cudart dlerror if you do not have a GPU set up on your machine.\n"
     ]
    },
    {
     "data": {
      "text/html": [
       "wandb version 0.15.0 is available!  To upgrade, please run:\n",
       " $ pip install wandb --upgrade"
      ],
      "text/plain": [
       "<IPython.core.display.HTML object>"
      ]
     },
     "metadata": {},
     "output_type": "display_data"
    },
    {
     "data": {
      "text/html": [
       "Tracking run with wandb version 0.12.17"
      ],
      "text/plain": [
       "<IPython.core.display.HTML object>"
      ]
     },
     "metadata": {},
     "output_type": "display_data"
    },
    {
     "data": {
      "text/html": [
       "Run data is saved locally in <code>/app/notebooks/siren_sdf/wandb/run-20230421_152641-3src3u1e</code>"
      ],
      "text/plain": [
       "<IPython.core.display.HTML object>"
      ]
     },
     "metadata": {},
     "output_type": "display_data"
    },
    {
     "data": {
      "text/html": [
       "Syncing run <strong><a href=\"https://wandb.ai/nerlfield/siren_sdf/runs/3src3u1e\" target=\"_blank\">uber_sdf_normal_init_baseline</a></strong> to <a href=\"https://wandb.ai/nerlfield/siren_sdf\" target=\"_blank\">Weights & Biases</a> (<a href=\"https://wandb.me/run\" target=\"_blank\">docs</a>)<br/>"
      ],
      "text/plain": [
       "<IPython.core.display.HTML object>"
      ]
     },
     "metadata": {},
     "output_type": "display_data"
    }
   ],
   "source": [
    "import wandb\n",
    "if config['logging']:\n",
    "    run = wandb.init(project=config[\"wandb_project\"], name=config[\"experiment_name\"], config=config)"
   ]
  },
  {
   "cell_type": "code",
   "execution_count": 11,
   "id": "45abc641-2f6d-4ad1-9138-6e91486bbcfb",
   "metadata": {},
   "outputs": [],
   "source": [
    "from PIL import Image, ImageFile\n",
    "ImageFile.LOAD_TRUNCATED_IMAGES = True"
   ]
  },
  {
   "cell_type": "code",
   "execution_count": null,
   "id": "90564649-6dbb-483a-9d89-ca6256d72f06",
   "metadata": {
    "tags": []
   },
   "outputs": [
    {
     "data": {
      "application/json": {
       "ascii": false,
       "bar_format": null,
       "colour": null,
       "elapsed": 0.007130622863769531,
       "initial": 0,
       "n": 0,
       "ncols": null,
       "nrows": 11,
       "postfix": null,
       "prefix": "",
       "rate": null,
       "total": 100,
       "unit": "it",
       "unit_divisor": 1000,
       "unit_scale": false
      },
      "application/vnd.jupyter.widget-view+json": {
       "model_id": "ae400189801d436bb3032ed4ade7f001",
       "version_major": 2,
       "version_minor": 0
      },
      "text/plain": [
       "  0%|          | 0/100 [00:00<?, ?it/s]"
      ]
     },
     "metadata": {},
     "output_type": "display_data"
    }
   ],
   "source": [
    "from tqdm.auto import tqdm\n",
    "\n",
    "iteration = 0\n",
    "for epoch in (pbar := tqdm(range(int(config['epochs'])))):\n",
    "    for step, (model_input, gt) in enumerate(dataloader):\n",
    "        model_input = {key: value.to(config['device']) for key, value in model_input.items()}\n",
    "        gt = {key: value.to(config['device']) for key, value in gt.items()}\n",
    "        \n",
    "        model_output = model(model_input)\n",
    "        losses = sdf(model_output, gt)\n",
    "        \n",
    "        train_loss = 0.\n",
    "        for loss_name, loss in losses.items():\n",
    "            single_loss = loss.mean()\n",
    "            train_loss += single_loss\n",
    "                \n",
    "        if config['logging']:\n",
    "            wandb.log({\n",
    "                \"sdf\": losses['sdf'].item(),\n",
    "                \"inter\": losses['inter'].item(),\n",
    "                \"normal_constraint\": losses['normal_constraint'].item(),\n",
    "                \"grad_constraint\": losses['grad_constraint'].item(),\n",
    "                \"train_loss\": train_loss.item()\n",
    "            })\n",
    "            \n",
    "        optimizer.zero_grad()\n",
    "        train_loss.backward()\n",
    "\n",
    "        if config['clip_grad']:\n",
    "            if isinstance(config['clip_grad'], bool):\n",
    "                torch.nn.utils.clip_grad_norm_(model.parameters(), max_norm=1.)\n",
    "            else:\n",
    "                torch.nn.utils.clip_grad_norm_(model.parameters(), max_norm=config['clip_grad'])\n",
    "\n",
    "        optimizer.step()\n",
    "        \n",
    "        if iteration % config['vis_freq'] == 0 and config['logging']:\n",
    "            sdf_summary = get_sdf_summary(model, model_input, gt, model_output)\n",
    "            wandb.log({\n",
    "                \"xy_sdf_slice\": wandb.Image(sdf_summary['xy_sdf_slice']),\n",
    "                \"xz_sdf_slice\": wandb.Image(sdf_summary['xz_sdf_slice']),\n",
    "                \"yz_sdf_slice\": wandb.Image(sdf_summary['yz_sdf_slice'])\n",
    "            })\n",
    "            \n",
    "        if iteration % config['save_ckpt_freq'] == 0:\n",
    "            torch.save(model.state_dict(), config['checkpoint_dir'] / f\"{config['wandb_project']}_{config['experiment_name']}_{epoch}_{iteration}.pth\")\n",
    "        \n",
    "        pbar.set_description(f' => Loss: {train_loss.item():.3f}')\n",
    "        \n",
    "        iteration += 1"
   ]
  },
  {
   "cell_type": "markdown",
   "id": "eef83b38-b313-40cd-8448-96148d6aff76",
   "metadata": {},
   "source": [
    "# Save to mesh"
   ]
  },
  {
   "cell_type": "code",
   "execution_count": null,
   "id": "3ef95b72-ab59-4a59-8a89-fed6db796e5f",
   "metadata": {},
   "outputs": [],
   "source": [
    "break"
   ]
  },
  {
   "cell_type": "code",
   "execution_count": null,
   "id": "3ce52feb-d1f3-4853-8e0b-32db234be729",
   "metadata": {},
   "outputs": [],
   "source": [
    "from src.nn_modules import SingleBVPNet\n",
    "\n",
    "class SDFDecoder(torch.nn.Module):\n",
    "    def __init__(self, config, ckpt_path=None):\n",
    "        super().__init__()\n",
    "        # Define the model.\n",
    "        self.model = SingleBVPNet(type=config['net_type'], final_layer_factor=1, in_features=3)\n",
    "        if ckpt_path is not None:\n",
    "            self.model.load_state_dict(torch.load(ckpt_path))\n",
    "        self.model = self.model.to(config['device'])\n",
    "\n",
    "    def forward(self, coords):\n",
    "        model_in = {'coords': coords}\n",
    "        return self.model(model_in)['model_out']"
   ]
  },
  {
   "cell_type": "code",
   "execution_count": null,
   "id": "73824c9a-73b1-44dd-bab0-88a9b91cda25",
   "metadata": {},
   "outputs": [],
   "source": [
    "decoder = SDFDecoder(config, config['checkpoint_dir'].ls()[-1])"
   ]
  },
  {
   "cell_type": "code",
   "execution_count": null,
   "id": "8dbf5d01-f473-4d06-9ef1-3525c5149522",
   "metadata": {},
   "outputs": [],
   "source": [
    "create_mesh(decoder, config['experiment_name'], device=config['device'], N=200)"
   ]
  },
  {
   "cell_type": "code",
   "execution_count": null,
   "id": "3a6a5a1f-6d13-48ca-a552-06682f379a47",
   "metadata": {},
   "outputs": [],
   "source": []
  }
 ],
 "metadata": {
  "kernelspec": {
   "display_name": "Python 3 (ipykernel)",
   "language": "python",
   "name": "python3"
  },
  "language_info": {
   "codemirror_mode": {
    "name": "ipython",
    "version": 3
   },
   "file_extension": ".py",
   "mimetype": "text/x-python",
   "name": "python",
   "nbconvert_exporter": "python",
   "pygments_lexer": "ipython3",
   "version": "3.8.12"
  }
 },
 "nbformat": 4,
 "nbformat_minor": 5
}
