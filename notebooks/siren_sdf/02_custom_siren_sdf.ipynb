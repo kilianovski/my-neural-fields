{
 "cells": [
  {
   "cell_type": "code",
   "execution_count": 1,
   "id": "e8f2e64a-84ff-470d-95e1-2eab7d2d748f",
   "metadata": {},
   "outputs": [],
   "source": [
    "import torch\n",
    "from pathlib import Path\n",
    "\n",
    "try:\n",
    "    import lovely_tensors as lt\n",
    "except:\n",
    "    ! pip install --upgrade lovely-tensors\n",
    "    import lovely_tensors as lt\n",
    "    \n",
    "lt.monkey_patch()"
   ]
  },
  {
   "cell_type": "code",
   "execution_count": 2,
   "id": "7644209f-15fc-4746-a838-ffd313519864",
   "metadata": {},
   "outputs": [],
   "source": [
    "config = {\n",
    "    \"device\": torch.device(\"cuda:1\") if torch.cuda.is_available() else torch.device(\"cpu\"),\n",
    "    \"experiment_name\": \"siren_sdf_baseline\",\n",
    "    \"point_cloud_path\": \"data/interior_room.xyz\",\n",
    "    \"batch_size\": 1400,\n",
    "    \"lr\": 1e-4,\n",
    "    \"clip_grad\": True,\n",
    "    \"checkpoint_dir\": Path('checkpoints/')\n",
    "}\n",
    "\n",
    "config[\"checkpoint_dir\"].mkdir(exist_ok=True, parents=True)"
   ]
  },
  {
   "cell_type": "markdown",
   "id": "3eb866fa-7570-4f99-b3b6-5d4f042be7e5",
   "metadata": {},
   "source": [
    "# Train SDF"
   ]
  },
  {
   "cell_type": "code",
   "execution_count": 3,
   "id": "42596fdd-47f6-406e-8ac0-06dd8f6e12db",
   "metadata": {},
   "outputs": [
    {
     "name": "stdout",
     "output_type": "stream",
     "text": [
      "Loading point cloud\n",
      "Finished loading point cloud\n"
     ]
    }
   ],
   "source": [
    "import src.dataio as dataio\n",
    "from torch.utils.data import DataLoader\n",
    "\n",
    "sdf_dataset = dataio.PointCloud(config['point_cloud_path'], on_surface_points=config['batch_size'])\n",
    "dataloader = DataLoader(sdf_dataset, shuffle=True, batch_size=1, pin_memory=True, num_workers=0)"
   ]
  },
  {
   "cell_type": "code",
   "execution_count": 8,
   "id": "ad0dc356-6a33-4f32-a1bb-ef15522583e4",
   "metadata": {
    "tags": []
   },
   "outputs": [],
   "source": [
    "from src.nn_modules import SingleBVPNet\n",
    "\n",
    "model = SingleBVPNet(type='sine', in_features=3).to(config['device'])"
   ]
  },
  {
   "cell_type": "code",
   "execution_count": 9,
   "id": "ab120c85-f958-4d33-8339-b0041159fb95",
   "metadata": {},
   "outputs": [],
   "source": [
    "from src.loss_functions import sdf\n",
    "\n",
    "optimizer = torch.optim.Adam(lr=config['lr'], params=model.parameters())"
   ]
  },
  {
   "cell_type": "code",
   "execution_count": 10,
   "id": "90564649-6dbb-483a-9d89-ca6256d72f06",
   "metadata": {},
   "outputs": [
    {
     "data": {
      "application/json": {
       "ascii": false,
       "bar_format": null,
       "colour": null,
       "elapsed": 0.006998777389526367,
       "initial": 0,
       "n": 0,
       "ncols": null,
       "nrows": 3,
       "postfix": null,
       "prefix": "",
       "rate": null,
       "total": 10,
       "unit": "it",
       "unit_divisor": 1000,
       "unit_scale": false
      },
      "application/vnd.jupyter.widget-view+json": {
       "model_id": "73de10ebf467445883a711767e8b8788",
       "version_major": 2,
       "version_minor": 0
      },
      "text/plain": [
       "  0%|          | 0/10 [00:00<?, ?it/s]"
      ]
     },
     "metadata": {},
     "output_type": "display_data"
    }
   ],
   "source": [
    "from tqdm.auto import tqdm\n",
    "\n",
    "epochs = 10\n",
    "for epoch in (pbar := tqdm(range(int(epochs)))):\n",
    "    for step, (model_input, gt) in enumerate(dataloader):\n",
    "        model_input = {key: value.to(config['device']) for key, value in model_input.items()}\n",
    "        gt = {key: value.to(config['device']) for key, value in gt.items()}\n",
    "        \n",
    "        model_output = model(model_input)\n",
    "        losses = sdf(model_output, gt)\n",
    "        \n",
    "        train_loss = 0.\n",
    "        for loss_name, loss in losses.items():\n",
    "            single_loss = loss.mean()\n",
    "            train_loss += single_loss\n",
    "            \n",
    "        optimizer.zero_grad()\n",
    "        train_loss.backward()\n",
    "\n",
    "        if config['clip_grad']:\n",
    "            if isinstance(config['clip_grad'], bool):\n",
    "                torch.nn.utils.clip_grad_norm_(model.parameters(), max_norm=1.)\n",
    "            else:\n",
    "                torch.nn.utils.clip_grad_norm_(model.parameters(), max_norm=config['clip_grad'])\n",
    "\n",
    "        optimizer.step()\n",
    "        pbar.set_description(f' => Loss: {train_loss.item():.3f}')"
   ]
  },
  {
   "cell_type": "code",
   "execution_count": 15,
   "id": "df0e86d9-9928-4e69-b2e8-30de2496f1f8",
   "metadata": {},
   "outputs": [],
   "source": [
    "torch.save(model.state_dict(), config['checkpoint_dir'] / f\"{config['experiment_name']}.pth\")"
   ]
  },
  {
   "cell_type": "markdown",
   "id": "eef83b38-b313-40cd-8448-96148d6aff76",
   "metadata": {},
   "source": [
    "# Save to mesh"
   ]
  },
  {
   "cell_type": "code",
   "execution_count": 3,
   "id": "413cf215-9f13-44a1-bb3e-416daa92db5b",
   "metadata": {},
   "outputs": [],
   "source": [
    "from src.nn_modules import SingleBVPNet\n",
    "\n",
    "class SDFDecoder(torch.nn.Module):\n",
    "    def __init__(self, config):\n",
    "        super().__init__()\n",
    "        # Define the model.\n",
    "        self.model = SingleBVPNet(type='siren', final_layer_factor=1, in_features=3)\n",
    "        self.model.load_state_dict(torch.load(config['checkpoint_dir'] / f\"{config['experiment_name']}.pth\"))\n",
    "        self.model = self.model.to(config['device'])\n",
    "\n",
    "    def forward(self, coords):\n",
    "        model_in = {'coords': coords}\n",
    "        return self.model(model_in)['model_out']"
   ]
  },
  {
   "cell_type": "code",
   "execution_count": 4,
   "id": "73824c9a-73b1-44dd-bab0-88a9b91cda25",
   "metadata": {},
   "outputs": [],
   "source": [
    "decoder = SDFDecoder(config)"
   ]
  },
  {
   "cell_type": "code",
   "execution_count": 5,
   "id": "e1d82a90-9e03-4434-a6a1-18415774a6ac",
   "metadata": {},
   "outputs": [],
   "source": [
    "from src.sdf_meshing import create_mesh"
   ]
  },
  {
   "cell_type": "code",
   "execution_count": 6,
   "id": "8dbf5d01-f473-4d06-9ef1-3525c5149522",
   "metadata": {},
   "outputs": [
    {
     "name": "stdout",
     "output_type": "stream",
     "text": [
      "0\n",
      "262144\n",
      "524288\n",
      "786432\n",
      "1048576\n",
      "1310720\n",
      "1572864\n",
      "1835008\n",
      "2097152\n",
      "2359296\n",
      "2621440\n",
      "2883584\n",
      "3145728\n",
      "3407872\n",
      "3670016\n",
      "3932160\n",
      "4194304\n",
      "4456448\n",
      "4718592\n",
      "4980736\n",
      "5242880\n",
      "5505024\n",
      "5767168\n",
      "6029312\n",
      "6291456\n",
      "6553600\n",
      "6815744\n",
      "7077888\n",
      "7340032\n",
      "7602176\n",
      "7864320\n",
      "8126464\n",
      "8388608\n",
      "8650752\n",
      "8912896\n",
      "9175040\n",
      "9437184\n",
      "9699328\n",
      "9961472\n",
      "10223616\n",
      "10485760\n",
      "10747904\n",
      "11010048\n",
      "11272192\n",
      "11534336\n",
      "11796480\n",
      "12058624\n",
      "12320768\n",
      "12582912\n",
      "12845056\n",
      "13107200\n",
      "13369344\n",
      "13631488\n",
      "13893632\n",
      "14155776\n",
      "14417920\n",
      "14680064\n",
      "14942208\n",
      "15204352\n",
      "15466496\n",
      "15728640\n",
      "15990784\n",
      "16252928\n",
      "16515072\n",
      "sampling takes: 5.221504\n",
      "torch.Size([256, 256, 256])\n"
     ]
    }
   ],
   "source": [
    "create_mesh(decoder, config['experiment_name'], device=config['device'])"
   ]
  },
  {
   "cell_type": "code",
   "execution_count": null,
   "id": "b92c2eb0-e4e7-47bc-8f00-2f96324faf9c",
   "metadata": {},
   "outputs": [],
   "source": []
  }
 ],
 "metadata": {
  "kernelspec": {
   "display_name": "Python 3 (ipykernel)",
   "language": "python",
   "name": "python3"
  },
  "language_info": {
   "codemirror_mode": {
    "name": "ipython",
    "version": 3
   },
   "file_extension": ".py",
   "mimetype": "text/x-python",
   "name": "python",
   "nbconvert_exporter": "python",
   "pygments_lexer": "ipython3",
   "version": "3.8.12"
  }
 },
 "nbformat": 4,
 "nbformat_minor": 5
}
