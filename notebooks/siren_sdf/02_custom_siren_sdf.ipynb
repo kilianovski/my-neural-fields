{
 "cells": [
  {
   "cell_type": "code",
   "execution_count": 1,
   "id": "e8f2e64a-84ff-470d-95e1-2eab7d2d748f",
   "metadata": {},
   "outputs": [],
   "source": [
    "import torch\n",
    "from pathlib import Path\n",
    "\n",
    "try:\n",
    "    import lovely_tensors as lt\n",
    "except:\n",
    "    ! pip install --upgrade lovely-tensors\n",
    "    import lovely_tensors as lt\n",
    "    \n",
    "lt.monkey_patch()"
   ]
  },
  {
   "cell_type": "code",
   "execution_count": 13,
   "id": "92aebcd9-30cd-4c28-b283-806dad5b675a",
   "metadata": {},
   "outputs": [
    {
     "name": "stderr",
     "output_type": "stream",
     "text": [
      "wandb: Network error (ReadTimeout), entering retry loop.\n"
     ]
    }
   ],
   "source": [
    "!rm -rf /app/notebooks/siren_sdf/checkpoints/*"
   ]
  },
  {
   "cell_type": "code",
   "execution_count": 4,
   "id": "7644209f-15fc-4746-a838-ffd313519864",
   "metadata": {},
   "outputs": [],
   "source": [
    "config = {\n",
    "    \"device\": torch.device(\"cuda:1\") if torch.cuda.is_available() else torch.device(\"cpu\"),\n",
    "    \"wandb_project\": \"siren_sdf\",\n",
    "    \"experiment_name\": \"siren_sdf_baseline\",\n",
    "    \"logging\": True,\n",
    "    \"point_cloud_path\": \"data/interior_room.xyz\",\n",
    "    \"batch_size\": 1400,\n",
    "    \"lr\": 1e-4,\n",
    "    \"clip_grad\": True,\n",
    "    \"checkpoint_dir\": Path('checkpoints/'),\n",
    "    \"save_ckpt_freq\": 10,\n",
    "    \"epochs\": 10000,\n",
    "}\n",
    "\n",
    "config[\"checkpoint_dir\"].mkdir(exist_ok=True, parents=True)"
   ]
  },
  {
   "cell_type": "markdown",
   "id": "3eb866fa-7570-4f99-b3b6-5d4f042be7e5",
   "metadata": {},
   "source": [
    "# Train SDF"
   ]
  },
  {
   "cell_type": "code",
   "execution_count": 5,
   "id": "42596fdd-47f6-406e-8ac0-06dd8f6e12db",
   "metadata": {},
   "outputs": [
    {
     "name": "stdout",
     "output_type": "stream",
     "text": [
      "Loading point cloud\n",
      "Finished loading point cloud\n"
     ]
    }
   ],
   "source": [
    "import src.dataio as dataio\n",
    "from torch.utils.data import DataLoader\n",
    "\n",
    "sdf_dataset = dataio.PointCloud(config['point_cloud_path'], on_surface_points=config['batch_size'])\n",
    "dataloader = DataLoader(sdf_dataset, shuffle=True, batch_size=1, pin_memory=True, num_workers=0)"
   ]
  },
  {
   "cell_type": "code",
   "execution_count": 6,
   "id": "ad0dc356-6a33-4f32-a1bb-ef15522583e4",
   "metadata": {
    "tags": []
   },
   "outputs": [],
   "source": [
    "from src.nn_modules import SingleBVPNet\n",
    "\n",
    "model = SingleBVPNet(type='sine', in_features=3).to(config['device'])"
   ]
  },
  {
   "cell_type": "code",
   "execution_count": 7,
   "id": "ab120c85-f958-4d33-8339-b0041159fb95",
   "metadata": {},
   "outputs": [],
   "source": [
    "from src.loss_functions import sdf\n",
    "\n",
    "optimizer = torch.optim.Adam(lr=config['lr'], params=model.parameters())"
   ]
  },
  {
   "cell_type": "code",
   "execution_count": 8,
   "id": "85448d85-985e-4dac-9b40-6a9a60d8c461",
   "metadata": {},
   "outputs": [
    {
     "name": "stderr",
     "output_type": "stream",
     "text": [
      "\u001b[34m\u001b[1mwandb\u001b[0m: Currently logged in as: \u001b[33mnerlfield\u001b[0m. Use \u001b[1m`wandb login --relogin`\u001b[0m to force relogin\n",
      "2023-04-18 14:31:08.947484: W tensorflow/stream_executor/platform/default/dso_loader.cc:64] Could not load dynamic library 'libcudart.so.11.0'; dlerror: libcudart.so.11.0: cannot open shared object file: No such file or directory; LD_LIBRARY_PATH: /usr/local/nvidia/lib:/usr/local/nvidia/lib64\n",
      "2023-04-18 14:31:08.947538: I tensorflow/stream_executor/cuda/cudart_stub.cc:29] Ignore above cudart dlerror if you do not have a GPU set up on your machine.\n"
     ]
    },
    {
     "data": {
      "text/html": [
       "wandb version 0.14.2 is available!  To upgrade, please run:\n",
       " $ pip install wandb --upgrade"
      ],
      "text/plain": [
       "<IPython.core.display.HTML object>"
      ]
     },
     "metadata": {},
     "output_type": "display_data"
    },
    {
     "data": {
      "text/html": [
       "Tracking run with wandb version 0.12.17"
      ],
      "text/plain": [
       "<IPython.core.display.HTML object>"
      ]
     },
     "metadata": {},
     "output_type": "display_data"
    },
    {
     "data": {
      "text/html": [
       "Run data is saved locally in <code>/app/notebooks/siren_sdf/wandb/run-20230418_143107-2vmqgd1t</code>"
      ],
      "text/plain": [
       "<IPython.core.display.HTML object>"
      ]
     },
     "metadata": {},
     "output_type": "display_data"
    },
    {
     "data": {
      "text/html": [
       "Syncing run <strong><a href=\"https://wandb.ai/nerlfield/siren_sdf/runs/2vmqgd1t\" target=\"_blank\">siren_sdf_baseline</a></strong> to <a href=\"https://wandb.ai/nerlfield/siren_sdf\" target=\"_blank\">Weights & Biases</a> (<a href=\"https://wandb.me/run\" target=\"_blank\">docs</a>)<br/>"
      ],
      "text/plain": [
       "<IPython.core.display.HTML object>"
      ]
     },
     "metadata": {},
     "output_type": "display_data"
    }
   ],
   "source": [
    "import wandb\n",
    "if config['logging']:\n",
    "    run = wandb.init(project=config[\"wandb_project\"], name=config[\"experiment_name\"], config=config)"
   ]
  },
  {
   "cell_type": "code",
   "execution_count": 9,
   "id": "90564649-6dbb-483a-9d89-ca6256d72f06",
   "metadata": {
    "collapsed": true,
    "jupyter": {
     "outputs_hidden": true
    },
    "tags": []
   },
   "outputs": [
    {
     "data": {
      "application/json": {
       "ascii": false,
       "bar_format": null,
       "colour": null,
       "elapsed": 0.007445335388183594,
       "initial": 0,
       "n": 0,
       "ncols": null,
       "nrows": 3,
       "postfix": null,
       "prefix": "",
       "rate": null,
       "total": 10000,
       "unit": "it",
       "unit_divisor": 1000,
       "unit_scale": false
      },
      "application/vnd.jupyter.widget-view+json": {
       "model_id": "21337e00ed7a4920961002e9693eafb5",
       "version_major": 2,
       "version_minor": 0
      },
      "text/plain": [
       "  0%|          | 0/10000 [00:00<?, ?it/s]"
      ]
     },
     "metadata": {},
     "output_type": "display_data"
    },
    {
     "ename": "KeyboardInterrupt",
     "evalue": "",
     "output_type": "error",
     "traceback": [
      "\u001b[0;31m---------------------------------------------------------------------------\u001b[0m",
      "\u001b[0;31mKeyboardInterrupt\u001b[0m                         Traceback (most recent call last)",
      "\u001b[0;32m/tmp/ipykernel_19416/2453781973.py\u001b[0m in \u001b[0;36m<module>\u001b[0;34m\u001b[0m\n\u001b[1;32m     30\u001b[0m                 \u001b[0mtorch\u001b[0m\u001b[0;34m.\u001b[0m\u001b[0mnn\u001b[0m\u001b[0;34m.\u001b[0m\u001b[0mutils\u001b[0m\u001b[0;34m.\u001b[0m\u001b[0mclip_grad_norm_\u001b[0m\u001b[0;34m(\u001b[0m\u001b[0mmodel\u001b[0m\u001b[0;34m.\u001b[0m\u001b[0mparameters\u001b[0m\u001b[0;34m(\u001b[0m\u001b[0;34m)\u001b[0m\u001b[0;34m,\u001b[0m \u001b[0mmax_norm\u001b[0m\u001b[0;34m=\u001b[0m\u001b[0mconfig\u001b[0m\u001b[0;34m[\u001b[0m\u001b[0;34m'clip_grad'\u001b[0m\u001b[0;34m]\u001b[0m\u001b[0;34m)\u001b[0m\u001b[0;34m\u001b[0m\u001b[0;34m\u001b[0m\u001b[0m\n\u001b[1;32m     31\u001b[0m \u001b[0;34m\u001b[0m\u001b[0m\n\u001b[0;32m---> 32\u001b[0;31m         \u001b[0moptimizer\u001b[0m\u001b[0;34m.\u001b[0m\u001b[0mstep\u001b[0m\u001b[0;34m(\u001b[0m\u001b[0;34m)\u001b[0m\u001b[0;34m\u001b[0m\u001b[0;34m\u001b[0m\u001b[0m\n\u001b[0m\u001b[1;32m     33\u001b[0m \u001b[0;34m\u001b[0m\u001b[0m\n\u001b[1;32m     34\u001b[0m         \u001b[0;32mif\u001b[0m \u001b[0mepoch\u001b[0m \u001b[0;34m%\u001b[0m \u001b[0mconfig\u001b[0m\u001b[0;34m[\u001b[0m\u001b[0;34m'save_ckpt_freq'\u001b[0m\u001b[0;34m]\u001b[0m \u001b[0;34m==\u001b[0m \u001b[0;36m0\u001b[0m\u001b[0;34m:\u001b[0m\u001b[0;34m\u001b[0m\u001b[0;34m\u001b[0m\u001b[0m\n",
      "\u001b[0;32m/opt/conda/lib/python3.8/site-packages/torch/optim/optimizer.py\u001b[0m in \u001b[0;36mwrapper\u001b[0;34m(*args, **kwargs)\u001b[0m\n\u001b[1;32m     86\u001b[0m                 \u001b[0mprofile_name\u001b[0m \u001b[0;34m=\u001b[0m \u001b[0;34m\"Optimizer.step#{}.step\"\u001b[0m\u001b[0;34m.\u001b[0m\u001b[0mformat\u001b[0m\u001b[0;34m(\u001b[0m\u001b[0mobj\u001b[0m\u001b[0;34m.\u001b[0m\u001b[0m__class__\u001b[0m\u001b[0;34m.\u001b[0m\u001b[0m__name__\u001b[0m\u001b[0;34m)\u001b[0m\u001b[0;34m\u001b[0m\u001b[0;34m\u001b[0m\u001b[0m\n\u001b[1;32m     87\u001b[0m                 \u001b[0;32mwith\u001b[0m \u001b[0mtorch\u001b[0m\u001b[0;34m.\u001b[0m\u001b[0mautograd\u001b[0m\u001b[0;34m.\u001b[0m\u001b[0mprofiler\u001b[0m\u001b[0;34m.\u001b[0m\u001b[0mrecord_function\u001b[0m\u001b[0;34m(\u001b[0m\u001b[0mprofile_name\u001b[0m\u001b[0;34m)\u001b[0m\u001b[0;34m:\u001b[0m\u001b[0;34m\u001b[0m\u001b[0;34m\u001b[0m\u001b[0m\n\u001b[0;32m---> 88\u001b[0;31m                     \u001b[0;32mreturn\u001b[0m \u001b[0mfunc\u001b[0m\u001b[0;34m(\u001b[0m\u001b[0;34m*\u001b[0m\u001b[0margs\u001b[0m\u001b[0;34m,\u001b[0m \u001b[0;34m**\u001b[0m\u001b[0mkwargs\u001b[0m\u001b[0;34m)\u001b[0m\u001b[0;34m\u001b[0m\u001b[0;34m\u001b[0m\u001b[0m\n\u001b[0m\u001b[1;32m     89\u001b[0m             \u001b[0;32mreturn\u001b[0m \u001b[0mwrapper\u001b[0m\u001b[0;34m\u001b[0m\u001b[0;34m\u001b[0m\u001b[0m\n\u001b[1;32m     90\u001b[0m \u001b[0;34m\u001b[0m\u001b[0m\n",
      "\u001b[0;32m/opt/conda/lib/python3.8/site-packages/torch/autograd/grad_mode.py\u001b[0m in \u001b[0;36mdecorate_context\u001b[0;34m(*args, **kwargs)\u001b[0m\n\u001b[1;32m     25\u001b[0m         \u001b[0;32mdef\u001b[0m \u001b[0mdecorate_context\u001b[0m\u001b[0;34m(\u001b[0m\u001b[0;34m*\u001b[0m\u001b[0margs\u001b[0m\u001b[0;34m,\u001b[0m \u001b[0;34m**\u001b[0m\u001b[0mkwargs\u001b[0m\u001b[0;34m)\u001b[0m\u001b[0;34m:\u001b[0m\u001b[0;34m\u001b[0m\u001b[0;34m\u001b[0m\u001b[0m\n\u001b[1;32m     26\u001b[0m             \u001b[0;32mwith\u001b[0m \u001b[0mself\u001b[0m\u001b[0;34m.\u001b[0m\u001b[0mclone\u001b[0m\u001b[0;34m(\u001b[0m\u001b[0;34m)\u001b[0m\u001b[0;34m:\u001b[0m\u001b[0;34m\u001b[0m\u001b[0;34m\u001b[0m\u001b[0m\n\u001b[0;32m---> 27\u001b[0;31m                 \u001b[0;32mreturn\u001b[0m \u001b[0mfunc\u001b[0m\u001b[0;34m(\u001b[0m\u001b[0;34m*\u001b[0m\u001b[0margs\u001b[0m\u001b[0;34m,\u001b[0m \u001b[0;34m**\u001b[0m\u001b[0mkwargs\u001b[0m\u001b[0;34m)\u001b[0m\u001b[0;34m\u001b[0m\u001b[0;34m\u001b[0m\u001b[0m\n\u001b[0m\u001b[1;32m     28\u001b[0m         \u001b[0;32mreturn\u001b[0m \u001b[0mcast\u001b[0m\u001b[0;34m(\u001b[0m\u001b[0mF\u001b[0m\u001b[0;34m,\u001b[0m \u001b[0mdecorate_context\u001b[0m\u001b[0;34m)\u001b[0m\u001b[0;34m\u001b[0m\u001b[0;34m\u001b[0m\u001b[0m\n\u001b[1;32m     29\u001b[0m \u001b[0;34m\u001b[0m\u001b[0m\n",
      "\u001b[0;32m/opt/conda/lib/python3.8/site-packages/torch/optim/adam.py\u001b[0m in \u001b[0;36mstep\u001b[0;34m(self, closure)\u001b[0m\n\u001b[1;32m    139\u001b[0m                     \u001b[0mstate_steps\u001b[0m\u001b[0;34m.\u001b[0m\u001b[0mappend\u001b[0m\u001b[0;34m(\u001b[0m\u001b[0mstate\u001b[0m\u001b[0;34m[\u001b[0m\u001b[0;34m'step'\u001b[0m\u001b[0;34m]\u001b[0m\u001b[0;34m)\u001b[0m\u001b[0;34m\u001b[0m\u001b[0;34m\u001b[0m\u001b[0m\n\u001b[1;32m    140\u001b[0m \u001b[0;34m\u001b[0m\u001b[0m\n\u001b[0;32m--> 141\u001b[0;31m             F.adam(params_with_grad,\n\u001b[0m\u001b[1;32m    142\u001b[0m                    \u001b[0mgrads\u001b[0m\u001b[0;34m,\u001b[0m\u001b[0;34m\u001b[0m\u001b[0;34m\u001b[0m\u001b[0m\n\u001b[1;32m    143\u001b[0m                    \u001b[0mexp_avgs\u001b[0m\u001b[0;34m,\u001b[0m\u001b[0;34m\u001b[0m\u001b[0;34m\u001b[0m\u001b[0m\n",
      "\u001b[0;32m/opt/conda/lib/python3.8/site-packages/torch/optim/_functional.py\u001b[0m in \u001b[0;36madam\u001b[0;34m(params, grads, exp_avgs, exp_avg_sqs, max_exp_avg_sqs, state_steps, amsgrad, beta1, beta2, lr, weight_decay, eps, maximize)\u001b[0m\n\u001b[1;32m     96\u001b[0m         \u001b[0;31m# Decay the first and second moment running average coefficient\u001b[0m\u001b[0;34m\u001b[0m\u001b[0;34m\u001b[0m\u001b[0;34m\u001b[0m\u001b[0m\n\u001b[1;32m     97\u001b[0m         \u001b[0mexp_avg\u001b[0m\u001b[0;34m.\u001b[0m\u001b[0mmul_\u001b[0m\u001b[0;34m(\u001b[0m\u001b[0mbeta1\u001b[0m\u001b[0;34m)\u001b[0m\u001b[0;34m.\u001b[0m\u001b[0madd_\u001b[0m\u001b[0;34m(\u001b[0m\u001b[0mgrad\u001b[0m\u001b[0;34m,\u001b[0m \u001b[0malpha\u001b[0m\u001b[0;34m=\u001b[0m\u001b[0;36m1\u001b[0m \u001b[0;34m-\u001b[0m \u001b[0mbeta1\u001b[0m\u001b[0;34m)\u001b[0m\u001b[0;34m\u001b[0m\u001b[0;34m\u001b[0m\u001b[0m\n\u001b[0;32m---> 98\u001b[0;31m         \u001b[0mexp_avg_sq\u001b[0m\u001b[0;34m.\u001b[0m\u001b[0mmul_\u001b[0m\u001b[0;34m(\u001b[0m\u001b[0mbeta2\u001b[0m\u001b[0;34m)\u001b[0m\u001b[0;34m.\u001b[0m\u001b[0maddcmul_\u001b[0m\u001b[0;34m(\u001b[0m\u001b[0mgrad\u001b[0m\u001b[0;34m,\u001b[0m \u001b[0mgrad\u001b[0m\u001b[0;34m.\u001b[0m\u001b[0mconj\u001b[0m\u001b[0;34m(\u001b[0m\u001b[0;34m)\u001b[0m\u001b[0;34m,\u001b[0m \u001b[0mvalue\u001b[0m\u001b[0;34m=\u001b[0m\u001b[0;36m1\u001b[0m \u001b[0;34m-\u001b[0m \u001b[0mbeta2\u001b[0m\u001b[0;34m)\u001b[0m\u001b[0;34m\u001b[0m\u001b[0;34m\u001b[0m\u001b[0m\n\u001b[0m\u001b[1;32m     99\u001b[0m         \u001b[0;32mif\u001b[0m \u001b[0mamsgrad\u001b[0m\u001b[0;34m:\u001b[0m\u001b[0;34m\u001b[0m\u001b[0;34m\u001b[0m\u001b[0m\n\u001b[1;32m    100\u001b[0m             \u001b[0;31m# Maintains the maximum of all 2nd moment running avg. till now\u001b[0m\u001b[0;34m\u001b[0m\u001b[0;34m\u001b[0m\u001b[0;34m\u001b[0m\u001b[0m\n",
      "\u001b[0;31mKeyboardInterrupt\u001b[0m: "
     ]
    }
   ],
   "source": [
    "from tqdm.auto import tqdm\n",
    "\n",
    "iteration = 0\n",
    "for epoch in (pbar := tqdm(range(int(config['epochs'])))):\n",
    "    for step, (model_input, gt) in enumerate(dataloader):\n",
    "        model_input = {key: value.to(config['device']) for key, value in model_input.items()}\n",
    "        gt = {key: value.to(config['device']) for key, value in gt.items()}\n",
    "        \n",
    "        model_output = model(model_input)\n",
    "        losses = sdf(model_output, gt)\n",
    "        \n",
    "        train_loss = 0.\n",
    "        for loss_name, loss in losses.items():\n",
    "            single_loss = loss.mean()\n",
    "            train_loss += single_loss\n",
    "            \n",
    "            if config['logging']:\n",
    "                wandb.log({loss_name: single_loss.item()})\n",
    "                \n",
    "        if config['logging']:\n",
    "            wandb.log({\"train_loss\": train_loss.item()})\n",
    "            \n",
    "        optimizer.zero_grad()\n",
    "        train_loss.backward()\n",
    "\n",
    "        if config['clip_grad']:\n",
    "            if isinstance(config['clip_grad'], bool):\n",
    "                torch.nn.utils.clip_grad_norm_(model.parameters(), max_norm=1.)\n",
    "            else:\n",
    "                torch.nn.utils.clip_grad_norm_(model.parameters(), max_norm=config['clip_grad'])\n",
    "\n",
    "        optimizer.step()\n",
    "        \n",
    "        if epoch % config['save_ckpt_freq'] == 0 and epoch > 0:\n",
    "            torch.save(model.state_dict(), config['checkpoint_dir'] / f\"{config['wandb_project']}_{config['experiment_name']}_{epoch}_{iteration}.pth\")\n",
    "        \n",
    "        pbar.set_description(f' => Loss: {train_loss.item():.3f}')\n",
    "        \n",
    "        iteration += 1"
   ]
  },
  {
   "cell_type": "code",
   "execution_count": 11,
   "id": "21d8c196-5641-4674-8793-bf09abdcc318",
   "metadata": {},
   "outputs": [
    {
     "data": {
      "text/plain": [
       "10"
      ]
     },
     "execution_count": 11,
     "metadata": {},
     "output_type": "execute_result"
    }
   ],
   "source": [
    "config['save_ckpt_freq']"
   ]
  },
  {
   "cell_type": "code",
   "execution_count": 10,
   "id": "edfcef45-3362-4c0d-b0c8-ed38b7ed43f7",
   "metadata": {},
   "outputs": [
    {
     "data": {
      "text/plain": [
       "3"
      ]
     },
     "execution_count": 10,
     "metadata": {},
     "output_type": "execute_result"
    }
   ],
   "source": [
    "epoch % config['save_ckpt_freq']"
   ]
  },
  {
   "cell_type": "markdown",
   "id": "eef83b38-b313-40cd-8448-96148d6aff76",
   "metadata": {},
   "source": [
    "# Save to mesh"
   ]
  },
  {
   "cell_type": "code",
   "execution_count": 3,
   "id": "413cf215-9f13-44a1-bb3e-416daa92db5b",
   "metadata": {},
   "outputs": [],
   "source": [
    "from src.nn_modules import SingleBVPNet\n",
    "\n",
    "class SDFDecoder(torch.nn.Module):\n",
    "    def __init__(self, config):\n",
    "        super().__init__()\n",
    "        # Define the model.\n",
    "        self.model = SingleBVPNet(type='siren', final_layer_factor=1, in_features=3)\n",
    "        self.model.load_state_dict(torch.load(config['checkpoint_dir'] / f\"{config['wandb_project']}_{config['experiment_name']}_{epoch}_{iteration}.pth\"))\n",
    "        self.model = self.model.to(config['device'])\n",
    "\n",
    "    def forward(self, coords):\n",
    "        model_in = {'coords': coords}\n",
    "        return self.model(model_in)['model_out']"
   ]
  },
  {
   "cell_type": "code",
   "execution_count": 4,
   "id": "73824c9a-73b1-44dd-bab0-88a9b91cda25",
   "metadata": {},
   "outputs": [],
   "source": [
    "decoder = SDFDecoder(config)"
   ]
  },
  {
   "cell_type": "code",
   "execution_count": 5,
   "id": "e1d82a90-9e03-4434-a6a1-18415774a6ac",
   "metadata": {},
   "outputs": [],
   "source": [
    "from src.sdf_meshing import create_mesh"
   ]
  },
  {
   "cell_type": "code",
   "execution_count": 6,
   "id": "8dbf5d01-f473-4d06-9ef1-3525c5149522",
   "metadata": {},
   "outputs": [
    {
     "name": "stdout",
     "output_type": "stream",
     "text": [
      "0\n",
      "262144\n",
      "524288\n",
      "786432\n",
      "1048576\n",
      "1310720\n",
      "1572864\n",
      "1835008\n",
      "2097152\n",
      "2359296\n",
      "2621440\n",
      "2883584\n",
      "3145728\n",
      "3407872\n",
      "3670016\n",
      "3932160\n",
      "4194304\n",
      "4456448\n",
      "4718592\n",
      "4980736\n",
      "5242880\n",
      "5505024\n",
      "5767168\n",
      "6029312\n",
      "6291456\n",
      "6553600\n",
      "6815744\n",
      "7077888\n",
      "7340032\n",
      "7602176\n",
      "7864320\n",
      "8126464\n",
      "8388608\n",
      "8650752\n",
      "8912896\n",
      "9175040\n",
      "9437184\n",
      "9699328\n",
      "9961472\n",
      "10223616\n",
      "10485760\n",
      "10747904\n",
      "11010048\n",
      "11272192\n",
      "11534336\n",
      "11796480\n",
      "12058624\n",
      "12320768\n",
      "12582912\n",
      "12845056\n",
      "13107200\n",
      "13369344\n",
      "13631488\n",
      "13893632\n",
      "14155776\n",
      "14417920\n",
      "14680064\n",
      "14942208\n",
      "15204352\n",
      "15466496\n",
      "15728640\n",
      "15990784\n",
      "16252928\n",
      "16515072\n",
      "sampling takes: 5.221504\n",
      "torch.Size([256, 256, 256])\n"
     ]
    }
   ],
   "source": [
    "create_mesh(decoder, config['experiment_name'], device=config['device'])"
   ]
  },
  {
   "cell_type": "code",
   "execution_count": null,
   "id": "b92c2eb0-e4e7-47bc-8f00-2f96324faf9c",
   "metadata": {},
   "outputs": [],
   "source": []
  }
 ],
 "metadata": {
  "kernelspec": {
   "display_name": "Python 3 (ipykernel)",
   "language": "python",
   "name": "python3"
  },
  "language_info": {
   "codemirror_mode": {
    "name": "ipython",
    "version": 3
   },
   "file_extension": ".py",
   "mimetype": "text/x-python",
   "name": "python",
   "nbconvert_exporter": "python",
   "pygments_lexer": "ipython3",
   "version": "3.8.12"
  }
 },
 "nbformat": 4,
 "nbformat_minor": 5
}
