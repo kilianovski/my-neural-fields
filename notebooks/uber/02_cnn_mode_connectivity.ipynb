{
 "cells": [
  {
   "cell_type": "code",
   "execution_count": 2,
   "id": "6146cfa9-594b-4591-b2d1-323cc13414d0",
   "metadata": {},
   "outputs": [],
   "source": [
    "import torch\n",
    "import torch.nn as nn\n",
    "import torch.optim as optim\n",
    "import torchvision\n",
    "import torch.nn.functional as F\n",
    "import torchvision.transforms as transforms\n",
    "\n",
    "import matplotlib.pyplot as plt\n",
    "\n",
    "\n",
    "import lovely_tensors as lt\n",
    "lt.monkey_patch()\n",
    "\n",
    "from tqdm.auto import tqdm\n",
    "\n",
    "\n",
    "# Define a simple 5-layer CNN\n",
    "class SimpleCNN(nn.Module):\n",
    "    def __init__(self):\n",
    "        super(SimpleCNN, self).__init__()\n",
    "        self.conv1 = nn.Conv2d(1, 32, 3, padding=1)\n",
    "        self.conv2 = nn.Conv2d(32, 64, 3, padding=1)\n",
    "        self.pool = nn.MaxPool2d(2, 2)\n",
    "        self.conv3 = nn.Conv2d(64, 128, 3, padding=1)\n",
    "        self.conv4 = nn.Conv2d(128, 256, 3, padding=1)\n",
    "        self.fc1 = nn.Linear(256, 10)\n",
    "\n",
    "    def forward(self, x):\n",
    "        x = self.pool(F.relu(self.conv1(x)))\n",
    "        x = self.pool(F.relu(self.conv2(x)))\n",
    "        x = self.pool(F.relu(self.conv3(x)))\n",
    "        x = self.pool(F.relu(self.conv4(x)))\n",
    "        x = x.view(-1, 256)\n",
    "        x = self.fc1(x)\n",
    "        return x\n",
    "\n",
    "    \n",
    "device = 'cuda:0'\n",
    "batch_size = 128\n",
    "\n",
    "# Define loss function and optimizer\n",
    "criterion = nn.CrossEntropyLoss()\n",
    "\n",
    "# Load and normalize MNIST dataset\n",
    "transform = transforms.Compose([transforms.ToTensor(), transforms.Normalize((0.5,), (0.5,))])\n",
    "\n",
    "trainset = torchvision.datasets.MNIST(root='./data', train=True, download=True, transform=transform)\n",
    "trainloader = torch.utils.data.DataLoader(trainset, batch_size=batch_size, shuffle=True, num_workers=2)\n",
    "\n",
    "testset = torchvision.datasets.MNIST(root='./data', train=False, download=True, transform=transform)\n",
    "testloader = torch.utils.data.DataLoader(testset, batch_size=batch_size, shuffle=False, num_workers=2)\n",
    "\n",
    "# Train the network\n",
    "num_epochs = 3"
   ]
  },
  {
   "cell_type": "code",
   "execution_count": 3,
   "id": "9bbffef1-dec6-4593-8b7b-25dff8743f90",
   "metadata": {},
   "outputs": [],
   "source": [
    "import os\n",
    "import random\n",
    "import numpy as np\n",
    "import torch\n",
    "\n",
    "def seed_all(seed):\n",
    "    random.seed(seed)\n",
    "    os.environ['PYTHONHASHSEED'] = str(seed)\n",
    "    np.random.seed(seed)\n",
    "    torch.manual_seed(seed)\n",
    "    torch.cuda.manual_seed(seed)\n",
    "    torch.backends.cudnn.deterministic = True"
   ]
  },
  {
   "cell_type": "code",
   "execution_count": 6,
   "id": "4354556d-4a76-425e-b551-230311b50c62",
   "metadata": {},
   "outputs": [],
   "source": [
    "def train(num_epochs=2, seed=42):\n",
    "    seed_all(seed)\n",
    "    print(f'Set seed={seed}')\n",
    "    net = SimpleCNN()\n",
    "    net = net.to(device)\n",
    "    \n",
    "    optimizer = optim.AdamW(net.parameters(), lr=3e-4)\n",
    "    epoch_losses = []\n",
    "    pbar = tqdm(range(num_epochs))\n",
    "\n",
    "    for epoch in pbar:\n",
    "        running_loss = 0.0\n",
    "        for i, data in enumerate(trainloader, 0):\n",
    "            inputs, labels = data\n",
    "            inputs, labels = inputs.to(device), labels.to(device)\n",
    "\n",
    "            optimizer.zero_grad()\n",
    "\n",
    "            outputs = net(inputs)\n",
    "            loss = criterion(outputs, labels)\n",
    "            loss.backward()\n",
    "            optimizer.step()\n",
    "\n",
    "            running_loss += loss.item()\n",
    "\n",
    "        avg_loss = running_loss / ((i + 1))\n",
    "        epoch_losses.append(avg_loss)\n",
    "        pbar.set_description(f\"Epoch {epoch + 1}, Loss: {avg_loss:.6f}\")\n",
    "\n",
    "\n",
    "    print(\"Training completed.\")\n",
    "\n",
    "    # Plot the training loss curve\n",
    "    plt.plot(range(1, num_epochs + 1), epoch_losses)\n",
    "    plt.xlabel('Epochs')\n",
    "    plt.ylabel('Loss')\n",
    "    plt.title('Training Loss Curve')\n",
    "    plt.show()\n",
    "\n",
    "    # Test the network\n",
    "    correct = 0\n",
    "    total = 0\n",
    "\n",
    "    with torch.no_grad():\n",
    "        for data in testloader:\n",
    "            images, labels = data\n",
    "            images, labels = images.to(device), labels.to(device)\n",
    "            outputs = net(images)\n",
    "            _, predicted = torch.max(outputs.data, 1)\n",
    "            total += labels.size(0)\n",
    "            correct += (predicted == labels).sum().item()\n",
    "\n",
    "    print(f\"Accuracy on the 10,000 test images: {100 * correct / total}%\")\n",
    "    return net"
   ]
  },
  {
   "cell_type": "markdown",
   "id": "96d53d12-bcee-41b1-a615-dcf824f87b9f",
   "metadata": {},
   "source": [
    "# Train two networks"
   ]
  },
  {
   "cell_type": "code",
   "execution_count": 7,
   "id": "59a7684c-549a-4318-9f71-4d6ef7e64f72",
   "metadata": {},
   "outputs": [
    {
     "name": "stdout",
     "output_type": "stream",
     "text": [
      "Set seed=0\n"
     ]
    },
    {
     "data": {
      "application/vnd.jupyter.widget-view+json": {
       "model_id": "cc9fb10811294ac8888568d5b83c9dd6",
       "version_major": 2,
       "version_minor": 0
      },
      "text/plain": [
       "  0%|          | 0/5 [00:00<?, ?it/s]"
      ]
     },
     "metadata": {},
     "output_type": "display_data"
    },
    {
     "name": "stdout",
     "output_type": "stream",
     "text": [
      "Training completed.\n"
     ]
    },
    {
     "data": {
      "image/png": "[encoded data removed]",
      "text/plain": [
       "<Figure size 640x480 with 1 Axes>"
      ]
     },
     "metadata": {},
     "output_type": "display_data"
    },
    {
     "name": "stdout",
     "output_type": "stream",
     "text": [
      "Accuracy on the 10,000 test images: 98.97%\n"
     ]
    }
   ],
   "source": [
    "model0 = train(seed=0, num_epochs=5)"
   ]
  },
  {
   "cell_type": "code",
   "execution_count": 8,
   "id": "8a29803c-5d8b-4055-bb88-14ca54e940bb",
   "metadata": {},
   "outputs": [
    {
     "name": "stdout",
     "output_type": "stream",
     "text": [
      "Set seed=1\n"
     ]
    },
    {
     "data": {
      "application/vnd.jupyter.widget-view+json": {
       "model_id": "cea54c6afe114e14b7d58962a86c94b6",
       "version_major": 2,
       "version_minor": 0
      },
      "text/plain": [
       "  0%|          | 0/2 [00:00<?, ?it/s]"
      ]
     },
     "metadata": {},
     "output_type": "display_data"
    },
    {
     "name": "stdout",
     "output_type": "stream",
     "text": [
      "Training completed.\n"
     ]
    },
    {
     "data": {
      "image/png": "[encoded data removed]",
      "text/plain": [
       "<Figure size 640x480 with 1 Axes>"
      ]
     },
     "metadata": {},
     "output_type": "display_data"
    },
    {
     "name": "stdout",
     "output_type": "stream",
     "text": [
      "Accuracy on the 10,000 test images: 98.22%\n"
     ]
    }
   ],
   "source": [
    "model1 = train(seed=1, num_epochs=2)"
   ]
  },
  {
   "cell_type": "markdown",
   "id": "1cdb8fa0-89a1-4ed5-94dc-0a3494fb27b6",
   "metadata": {},
   "source": [
    "# Learn to manipulate the weights"
   ]
  },
  {
   "cell_type": "code",
   "execution_count": 11,
   "id": "3a4a1be0-b590-4023-ac9a-a20e3d343754",
   "metadata": {},
   "outputs": [],
   "source": [
    "from collections import OrderedDict\n",
    "\n",
    "\n",
    "def product(li):\n",
    "    p = 1\n",
    "    for e in li:\n",
    "        p *= e\n",
    "    return p\n",
    "\n",
    "def params2vec(state_dict):\n",
    "    state_dict_shapes = OrderedDict()\n",
    "    params = []\n",
    "\n",
    "    for name, p in state_dict.items():\n",
    "        state_dict_shapes[name] = p.shape\n",
    "        params.append(p.flatten())\n",
    "\n",
    "    param_vec = torch.cat(params)\n",
    "    return param_vec, state_dict_shapes\n",
    "\n",
    "def vec2params(param_vec, state_dict_shapes):\n",
    "    offset = 0\n",
    "    reconstructed_state_dict = OrderedDict()\n",
    "\n",
    "    for name, shape in state_dict_shapes.items():\n",
    "        n = product(shape)\n",
    "        p = param_vec[offset:offset+n]\n",
    "        p = p.reshape(shape)\n",
    "\n",
    "        reconstructed_state_dict[name] = p\n",
    "\n",
    "        offset += n\n",
    "\n",
    "    return reconstructed_state_dict"
   ]
  },
  {
   "cell_type": "code",
   "execution_count": 14,
   "id": "737291d3-091b-4c07-b2da-25ce049224dd",
   "metadata": {},
   "outputs": [
    {
     "data": {
      "text/plain": [
       "tensor[390410] x∈[-0.456, 0.430] μ=-0.001 σ=0.027 cuda:0"
      ]
     },
     "execution_count": 14,
     "metadata": {},
     "output_type": "execute_result"
    }
   ],
   "source": [
    "param_vec0, state_dict_shapes = params2vec(model0.state_dict())\n",
    "param_vec0"
   ]
  },
  {
   "cell_type": "code",
   "execution_count": 36,
   "id": "6e9a5f5b-bfa9-45ca-aff5-8e75b074685d",
   "metadata": {},
   "outputs": [
    {
     "data": {
      "text/plain": [
       "<All keys matched successfully>"
      ]
     },
     "execution_count": 36,
     "metadata": {},
     "output_type": "execute_result"
    }
   ],
   "source": [
    "model0_reconstructed = SimpleCNN().to(device)\n",
    "model0_reconstructed.load_state_dict(vec2params(param_vec0, state_dict_shapes))"
   ]
  },
  {
   "cell_type": "code",
   "execution_count": 41,
   "id": "27f769a8-9da5-4056-81fd-e27ca987fcdf",
   "metadata": {},
   "outputs": [],
   "source": [
    "rand_input = torch.randn(32, 1, 28, 28).to(device)\n",
    "out0 = model0(rand_input)"
   ]
  },
  {
   "cell_type": "code",
   "execution_count": 42,
   "id": "1a91ab3d-b3a0-4b54-9d96-484c906d24de",
   "metadata": {},
   "outputs": [],
   "source": [
    "out0_rec = model0_reconstructed(rand_input)"
   ]
  },
  {
   "cell_type": "code",
   "execution_count": 43,
   "id": "2760d258-729f-4842-8f8f-5b9328072b1d",
   "metadata": {},
   "outputs": [],
   "source": [
    "assert torch.allclose(out0, out0_rec)"
   ]
  },
  {
   "cell_type": "code",
   "execution_count": 45,
   "id": "99b3e893-f42b-4a66-89cd-25c8e64741e2",
   "metadata": {},
   "outputs": [
    {
     "data": {
      "text/plain": [
       "tensor[390410] x∈[-0.394, 0.388] μ=0.000 σ=0.025 cuda:0"
      ]
     },
     "execution_count": 45,
     "metadata": {},
     "output_type": "execute_result"
    }
   ],
   "source": [
    "param_vec1, state_dict_shapes = params2vec(model1.state_dict())\n",
    "param_vec1"
   ]
  },
  {
   "cell_type": "markdown",
   "id": "9e0636e1-e386-4228-b44c-9a384859f748",
   "metadata": {},
   "source": [
    "# Setup the optimization problem"
   ]
  },
  {
   "cell_type": "markdown",
   "id": "9d5ffe78-ef4e-4746-9f56-3d034e853d47",
   "metadata": {},
   "source": [
    "## Ensure path (weight vector -> loss on MNIST) is differentiable"
   ]
  },
  {
   "cell_type": "markdown",
   "id": "c0de920c-62bb-47ec-929c-502f2c9ee0f5",
   "metadata": {},
   "source": [
    "# Train two networks"
   ]
  },
  {
   "cell_type": "code",
   "execution_count": 1,
   "id": "b8194b6e-6cd5-4363-bd6f-2e389269ebce",
   "metadata": {},
   "outputs": [],
   "source": [
    "import torch\n",
    "import torch.nn as nn\n",
    "import torch.optim as optim\n",
    "import torchvision\n",
    "import torch.nn.functional as F\n",
    "import torchvision.transforms as transforms\n",
    "\n",
    "import matplotlib.pyplot as plt\n",
    "\n",
    "\n",
    "import lovely_tensors as lt\n",
    "lt.monkey_patch()\n",
    "\n",
    "from tqdm.auto import tqdm"
   ]
  },
  {
   "cell_type": "code",
   "execution_count": 2,
   "id": "a838f327-c904-480e-a732-b05e5c6193ff",
   "metadata": {},
   "outputs": [],
   "source": [
    "device = 'cuda:0'\n",
    "batch_size = 128\n",
    "\n",
    "# Define loss function and optimizer\n",
    "criterion = nn.CrossEntropyLoss()\n",
    "\n",
    "# Load and normalize MNIST dataset\n",
    "transform = transforms.Compose([transforms.ToTensor(), transforms.Normalize((0.5,), (0.5,))])\n",
    "\n",
    "trainset = torchvision.datasets.MNIST(root='./data', train=True, download=True, transform=transform)\n",
    "trainloader = torch.utils.data.DataLoader(trainset, batch_size=batch_size, shuffle=True, num_workers=2)\n",
    "\n",
    "testset = torchvision.datasets.MNIST(root='./data', train=False, download=True, transform=transform)\n",
    "testloader = torch.utils.data.DataLoader(testset, batch_size=batch_size, shuffle=False, num_workers=2)\n",
    "\n",
    "# Train the network\n",
    "num_epochs = 3"
   ]
  },
  {
   "cell_type": "code",
   "execution_count": 3,
   "id": "7acc0113-32a3-4404-83f6-f3f87871e9c4",
   "metadata": {},
   "outputs": [],
   "source": [
    "import torch\n",
    "import torch.nn.functional as F\n",
    "\n",
    "def kaiming_init(tensor):\n",
    "    fan_in = tensor.shape[1]\n",
    "    gain = torch.nn.init.calculate_gain('relu')\n",
    "    std = gain / torch.sqrt(torch.tensor(fan_in, dtype=torch.float32))\n",
    "    return tensor.normal_(0, std.item())\n",
    "\n",
    "class RawSimpleCNN:\n",
    "    def __init__(self):\n",
    "        # Initialize weights and biases using Kaiming initialization\n",
    "        self.W1 = kaiming_init(torch.empty(32, 1, 3, 3))\n",
    "        self.b1 = torch.zeros(32)\n",
    "        self.W2 = kaiming_init(torch.empty(64, 32, 3, 3))\n",
    "        self.b2 = torch.zeros(64)\n",
    "        self.W3 = kaiming_init(torch.empty(128, 64, 3, 3))\n",
    "        self.b3 = torch.zeros(128)\n",
    "        self.W4 = kaiming_init(torch.empty(256, 128, 3, 3))\n",
    "        self.b4 = torch.zeros(256)\n",
    "        self.W_fc1 = kaiming_init(torch.empty(10, 256))\n",
    "        self.b_fc1 = torch.zeros(10)\n",
    "\n",
    "        self.parameters = [self.W1, self.b1, self.W2, self.b2, self.W3, self.b3, self.W4, self.b4, self.W_fc1, self.b_fc1]\n",
    "        for p in self.parameters:\n",
    "            p.requires_grad=True\n",
    "        \n",
    "        \n",
    "    def to(self, *args, **kwargs):\n",
    "        for i, p in enumerate(self.parameters):\n",
    "            self.parameters[i] = p.to(*args, **kwargs)\n",
    "        return self\n",
    "\n",
    "    def raw_forward(self, x, params=None):\n",
    "        if params is None:\n",
    "            params = self.parameters\n",
    "\n",
    "        W1, b1, W2, b2, W3, b3, W4, b4, W_fc1, b_fc1 = params\n",
    "\n",
    "        x = F.conv2d(x, W1, b1, padding=1)\n",
    "        x = F.relu(x)\n",
    "        x = F.max_pool2d(x, 2)\n",
    "\n",
    "        x = F.conv2d(x, W2, b2, padding=1)\n",
    "        x = F.relu(x)\n",
    "        x = F.max_pool2d(x, 2)\n",
    "\n",
    "        x = F.conv2d(x, W3, b3, padding=1)\n",
    "        x = F.relu(x)\n",
    "        x = F.max_pool2d(x, 2)\n",
    "\n",
    "        x = F.conv2d(x, W4, b4, padding=1)\n",
    "        x = F.relu(x)\n",
    "        x = F.max_pool2d(x, 2)\n",
    "\n",
    "        x = x.view(-1, 256)\n",
    "\n",
    "        x = F.linear(x, W_fc1, b_fc1)\n",
    "\n",
    "        return x\n",
    "\n",
    "def parameters_to_simple_cnn(params):\n",
    "    model = SimpleCNN()\n",
    "    model.conv1.weight.data.copy_(params[0])\n",
    "    model.conv1.bias.data.copy_(params[1])\n",
    "    model.conv2.weight.data.copy_(params[2])\n",
    "    model.conv2.bias.data.copy_(params[3])\n",
    "    model.conv3.weight.data.copy_(params[4])\n",
    "    model.conv3.bias.data.copy_(params[5])\n",
    "    model.conv4.weight.data.copy_(params[6])\n",
    "    model.conv4.bias.data.copy_(params[7])\n",
    "    model.fc1.weight.data.copy_(params[8].t())\n",
    "    model.fc1.bias.data.copy_(params[9])\n",
    "\n",
    "    return model\n",
    "\n",
    "# Test the raw_forward function\n",
    "raw_net = RawSimpleCNN().to(device)"
   ]
  },
  {
   "cell_type": "code",
   "execution_count": 4,
   "id": "7c9c4270-2a7f-4460-ae61-e17dc1e323ec",
   "metadata": {},
   "outputs": [],
   "source": [
    "import os\n",
    "import random\n",
    "import numpy as np\n",
    "import torch\n",
    "\n",
    "def seed_all(seed):\n",
    "    random.seed(seed)\n",
    "    os.environ['PYTHONHASHSEED'] = str(seed)\n",
    "    np.random.seed(seed)\n",
    "    torch.manual_seed(seed)\n",
    "    torch.cuda.manual_seed(seed)\n",
    "    torch.backends.cudnn.deterministic = True"
   ]
  },
  {
   "cell_type": "code",
   "execution_count": 5,
   "id": "1047d20d-81e8-4f33-b900-a17bc03acdcd",
   "metadata": {},
   "outputs": [],
   "source": [
    "def net2params(raw_net):\n",
    "    params_shapes = []\n",
    "    params = []\n",
    "\n",
    "    for p in raw_net.parameters:\n",
    "        params_shapes.append( p.shape )\n",
    "        params.append(p.flatten())\n",
    "\n",
    "    param_vec = torch.cat(params)\n",
    "    return param_vec, params_shapes"
   ]
  },
  {
   "cell_type": "code",
   "execution_count": 6,
   "id": "4b9bba11-9904-4c8f-9f44-6ad5f5becfdc",
   "metadata": {},
   "outputs": [],
   "source": [
    "def product(li):\n",
    "    p = 1\n",
    "    for e in li:\n",
    "        p *= e\n",
    "    return p\n",
    "\n",
    "def reconstruct_params(param_vec, params_shapes):\n",
    "    offset = 0\n",
    "    reconstructed_params = []\n",
    "\n",
    "    for shape in params_shapes:\n",
    "        n = product(shape)\n",
    "        p = param_vec[offset:offset+n]\n",
    "        p = p.reshape(shape)\n",
    "\n",
    "        reconstructed_params.append(p)\n",
    "\n",
    "        offset += n\n",
    "        \n",
    "    return reconstructed_params"
   ]
  },
  {
   "cell_type": "code",
   "execution_count": 7,
   "id": "00ad908f-6e51-49fc-9b37-6187f3d1b5eb",
   "metadata": {},
   "outputs": [],
   "source": [
    "def param_vec2net(param_vec, params_shapes):\n",
    "    params = reconstruct_params\n",
    "    raw_net = RawSimpleCNN()\n",
    "    \n",
    "    reconstructed_params = reconstruct_params(param_vec, params_shapes)\n",
    "    raw_net.parameters = reconstructed_params\n",
    "    return raw_net"
   ]
  },
  {
   "cell_type": "code",
   "execution_count": 8,
   "id": "d03b810f-9ed2-4a9e-ab30-fec27d5914b0",
   "metadata": {},
   "outputs": [],
   "source": [
    "def train(num_epochs=2, seed=42):\n",
    "    seed=42\n",
    "    seed_all(seed)\n",
    "    print(f'Set seed={seed}')\n",
    "\n",
    "    param_vec, params_shapes = net2params(RawSimpleCNN())\n",
    "    param_vec = param_vec.detach().to(device)\n",
    "    param_vec.requires_grad = True\n",
    "\n",
    "    optimizer = optim.AdamW([param_vec], lr=3e-4)\n",
    "    epoch_losses = []\n",
    "    pbar = tqdm(range(num_epochs))\n",
    "\n",
    "    for epoch in pbar:\n",
    "        running_loss = 0.0\n",
    "        for i, data in enumerate(trainloader, 0):\n",
    "            raw_net = param_vec2net(param_vec, params_shapes)\n",
    "            inputs, labels = data\n",
    "            inputs, labels = inputs.to(device), labels.to(device)\n",
    "\n",
    "            optimizer.zero_grad()\n",
    "\n",
    "            outputs = raw_net.raw_forward(inputs)\n",
    "            loss = criterion(outputs, labels)\n",
    "            loss.backward()\n",
    "            optimizer.step()\n",
    "\n",
    "            # print(loss.item())\n",
    "\n",
    "            running_loss += loss.item()\n",
    "\n",
    "        avg_loss = running_loss / ((i + 1))\n",
    "        epoch_losses.append(avg_loss)\n",
    "        pbar.set_description(f\"Epoch {epoch + 1}, Loss: {avg_loss:.6f}\")\n",
    "\n",
    "\n",
    "    print(\"Training completed.\")\n",
    "\n",
    "    # Plot the training loss curve\n",
    "    plt.plot(range(1, num_epochs + 1), epoch_losses)\n",
    "    plt.xlabel('Epochs')\n",
    "    plt.ylabel('Loss')\n",
    "    plt.title('Training Loss Curve')\n",
    "    plt.show()\n",
    "\n",
    "    # Test the network\n",
    "    correct = 0\n",
    "    total = 0\n",
    "\n",
    "    with torch.no_grad():\n",
    "        for data in testloader:\n",
    "            images, labels = data\n",
    "            images, labels = images.to(device), labels.to(device)\n",
    "            outputs = raw_net.raw_forward(images)\n",
    "            _, predicted = torch.max(outputs.data, 1)\n",
    "            total += labels.size(0)\n",
    "            correct += (predicted == labels).sum().item()\n",
    "\n",
    "    print(f\"Accuracy on the 10,000 test images: {100 * correct / total}%\")\n",
    "    return param_vec, params_shapes"
   ]
  },
  {
   "cell_type": "code",
   "execution_count": 9,
   "id": "286c434b-d07b-44a6-a8bd-8a653d6e455b",
   "metadata": {},
   "outputs": [
    {
     "name": "stdout",
     "output_type": "stream",
     "text": [
      "Set seed=42\n"
     ]
    },
    {
     "data": {
      "application/vnd.jupyter.widget-view+json": {
       "model_id": "7a3d6ebf707c4ac4884e3253faa27927",
       "version_major": 2,
       "version_minor": 0
      },
      "text/plain": [
       "  0%|          | 0/2 [00:00<?, ?it/s]"
      ]
     },
     "metadata": {},
     "output_type": "display_data"
    },
    {
     "name": "stdout",
     "output_type": "stream",
     "text": [
      "Training completed.\n"
     ]
    },
    {
     "data": {
      "image/png": "[encoded data removed]",
      "text/plain": [
       "<Figure size 640x480 with 1 Axes>"
      ]
     },
     "metadata": {},
     "output_type": "display_data"
    },
    {
     "name": "stdout",
     "output_type": "stream",
     "text": [
      "Accuracy on the 10,000 test images: 94.62%\n"
     ]
    }
   ],
   "source": [
    "param_vec2, params_shapes = train(num_epochs=2, seed=2)"
   ]
  },
  {
   "cell_type": "code",
   "execution_count": 10,
   "id": "43d996e2-a1e3-434a-95f4-ac82cefd13c1",
   "metadata": {},
   "outputs": [
    {
     "name": "stdout",
     "output_type": "stream",
     "text": [
      "Set seed=42\n"
     ]
    },
    {
     "data": {
      "application/vnd.jupyter.widget-view+json": {
       "model_id": "992c45f3367f4d13925ac9ab76fbb8d1",
       "version_major": 2,
       "version_minor": 0
      },
      "text/plain": [
       "  0%|          | 0/5 [00:00<?, ?it/s]"
      ]
     },
     "metadata": {},
     "output_type": "display_data"
    },
    {
     "name": "stdout",
     "output_type": "stream",
     "text": [
      "Training completed.\n"
     ]
    },
    {
     "data": {
      "image/png": "[encoded data removed]",
      "text/plain": [
       "<Figure size 640x480 with 1 Axes>"
      ]
     },
     "metadata": {},
     "output_type": "display_data"
    },
    {
     "name": "stdout",
     "output_type": "stream",
     "text": [
      "Accuracy on the 10,000 test images: 95.56%\n"
     ]
    }
   ],
   "source": [
    "param_vec3, params_shapes = train(num_epochs=5, seed=3)"
   ]
  },
  {
   "cell_type": "code",
   "execution_count": 11,
   "id": "e49c0c7b-c0c0-4d46-9a3e-e52b75b35c04",
   "metadata": {},
   "outputs": [],
   "source": [
    "def evaluate_loss(param_vec, verbose=False):\n",
    "    loss = 0.\n",
    "    n_images = 0\n",
    "    correct = 0\n",
    "    with torch.inference_mode():\n",
    "\n",
    "        raw_net = param_vec2net(param_vec, params_shapes)\n",
    "\n",
    "        for i, data in zip(range(1), testloader):\n",
    "            images, labels = data\n",
    "\n",
    "            images, labels = images.to(device), labels.to(device)\n",
    "            outputs = raw_net.raw_forward(images)\n",
    "\n",
    "            batch_loss = criterion(outputs, labels)\n",
    "            loss += batch_loss\n",
    "\n",
    "            _, predicted = torch.max(outputs.data, 1)\n",
    "            # print('predicted',predicted)\n",
    "            n_images += labels.size(0)\n",
    "            correct += (predicted == labels).sum().item()\n",
    "\n",
    "    if verbose:\n",
    "        print(f\"Loss={loss} | Accuracy on the {n_images} test images: {100 * correct / n_images}%\")\n",
    "    return loss"
   ]
  },
  {
   "cell_type": "markdown",
   "id": "fd4bed6d-71cf-45d7-a01b-969138ca9060",
   "metadata": {},
   "source": [
    "# Vizualize simple loss surface"
   ]
  },
  {
   "cell_type": "code",
   "execution_count": 12,
   "id": "9fd067f5-696f-4362-8eff-d06effad42ce",
   "metadata": {},
   "outputs": [],
   "source": [
    "def cos(a, b): return a.dot(b)/(a.norm() * b.norm() + 1e-6)"
   ]
  },
  {
   "cell_type": "markdown",
   "id": "f53c9ee3-14cd-45a8-8dd6-bbb78c9e7825",
   "metadata": {},
   "source": [
    "## Orthogonolization process "
   ]
  },
  {
   "cell_type": "markdown",
   "id": "16edb751-b801-44b3-a386-239f1e008a33",
   "metadata": {},
   "source": [
    "I need to:\n",
    "\n",
    "1. loss(w1 + u) == loss(w2)\n",
    "1. loss(w1 + xu + yv) == loss(w3)\n",
    "\n",
    "where $x,y$ - coordinates of w3 in new frame. How do I find them?\n",
    "\n",
    "First, I need to answer you how do I find $v$."
   ]
  },
  {
   "cell_type": "code",
   "execution_count": 13,
   "id": "662849ab-ca92-44b8-a856-32e5a2b99c19",
   "metadata": {},
   "outputs": [],
   "source": [
    "u, v = param_vec2, param_vec3\n",
    "w1 = torch.zeros_like(u)\n",
    "\n",
    "u = u - w1\n",
    "v = v - w1\n",
    "\n",
    "y = cos(u,v)\n",
    "v = v - y * u\n",
    "\n",
    "# v = F.normalize(v, dim=0)\n",
    "normal_u, normal_v = F.normalize(u, dim=0), F.normalize(v, dim=0)\n",
    "norm_of_u, norm_of_v = u.norm(), v.norm()"
   ]
  },
  {
   "cell_type": "code",
   "execution_count": 14,
   "id": "b662b4bd-30cd-477e-905c-8487ea45d20c",
   "metadata": {},
   "outputs": [
    {
     "data": {
      "text/plain": [
       "(tensor cuda:0 2.303, 1.0273975133895874, 1.530634880065918)"
      ]
     },
     "execution_count": 14,
     "metadata": {},
     "output_type": "execute_result"
    }
   ],
   "source": [
    "evaluate_loss(w1), evaluate_loss(param_vec2).item(), evaluate_loss(param_vec3).item()"
   ]
  },
  {
   "cell_type": "code",
   "execution_count": 15,
   "id": "c51d654d-4a79-41a2-a775-63fde3022e36",
   "metadata": {},
   "outputs": [],
   "source": [
    "assert torch.allclose ( evaluate_loss(w1 + u), evaluate_loss(param_vec2) )"
   ]
  },
  {
   "cell_type": "code",
   "execution_count": 16,
   "id": "d84b6d41-fd0e-4a0c-9689-b837c8937365",
   "metadata": {},
   "outputs": [],
   "source": [
    "assert torch.allclose(evaluate_loss(w1 + y*u + v), evaluate_loss(param_vec3))"
   ]
  },
  {
   "cell_type": "code",
   "execution_count": 17,
   "id": "a6747d7c-6efb-4aa5-8867-192897b77726",
   "metadata": {},
   "outputs": [
    {
     "data": {
      "text/plain": [
       "185.99732971191406"
      ]
     },
     "execution_count": 17,
     "metadata": {},
     "output_type": "execute_result"
    }
   ],
   "source": [
    "max_range = max(norm_of_u, norm_of_v).item() * 2.\n",
    "max_range"
   ]
  },
  {
   "cell_type": "code",
   "execution_count": 18,
   "id": "124cd4d8-ec94-4630-ba7e-26cb10f1ccce",
   "metadata": {},
   "outputs": [],
   "source": [
    "x2,y2 = norm_of_u, 0\n",
    "x3,y3 = norm_of_u*y, norm_of_v"
   ]
  },
  {
   "cell_type": "code",
   "execution_count": 19,
   "id": "a3bcee1a-4405-40b8-9310-0cc80c96a300",
   "metadata": {},
   "outputs": [],
   "source": [
    "assert torch.allclose ( evaluate_loss(w1 + x2*normal_u + y2*normal_v), evaluate_loss(param_vec2) )"
   ]
  },
  {
   "cell_type": "code",
   "execution_count": 20,
   "id": "ae43123f-35e8-47b7-81a7-930de9f78033",
   "metadata": {},
   "outputs": [],
   "source": [
    "assert torch.allclose ( evaluate_loss(w1 + x3*normal_u + y3*normal_v), evaluate_loss(param_vec3) )"
   ]
  },
  {
   "cell_type": "code",
   "execution_count": 131,
   "id": "c58918fc-6010-4d56-9624-6435eb21b44e",
   "metadata": {},
   "outputs": [
    {
     "data": {
      "application/vnd.jupyter.widget-view+json": {
       "model_id": "c43f7e1c5379457f832eec2790a0b4cf",
       "version_major": 2,
       "version_minor": 0
      },
      "text/plain": [
       "  0%|          | 0/20 [00:00<?, ?it/s]"
      ]
     },
     "metadata": {},
     "output_type": "display_data"
    },
    {
     "name": "stderr",
     "output_type": "stream",
     "text": [
      "Exception ignored in: <function _releaseLock at 0x7fd8449733b0>\n",
      "Traceback (most recent call last):\n",
      "  File \"/opt/conda/lib/python3.7/logging/__init__.py\", line 221, in _releaseLock\n",
      "    def _releaseLock():\n",
      "KeyboardInterrupt\n"
     ]
    },
    {
     "ename": "RuntimeError",
     "evalue": "DataLoader worker (pid(s) 1698590) exited unexpectedly",
     "output_type": "error",
     "traceback": [
      "\u001b[0;31m---------------------------------------------------------------------------\u001b[0m",
      "\u001b[0;31mEmpty\u001b[0m                                     Traceback (most recent call last)",
      "\u001b[0;32m/opt/conda/lib/python3.7/site-packages/torch/utils/data/dataloader.py\u001b[0m in \u001b[0;36m_try_get_data\u001b[0;34m(self, timeout)\u001b[0m\n\u001b[1;32m   1119\u001b[0m         \u001b[0;32mtry\u001b[0m\u001b[0;34m:\u001b[0m\u001b[0;34m\u001b[0m\u001b[0;34m\u001b[0m\u001b[0m\n\u001b[0;32m-> 1120\u001b[0;31m             \u001b[0mdata\u001b[0m \u001b[0;34m=\u001b[0m \u001b[0mself\u001b[0m\u001b[0;34m.\u001b[0m\u001b[0m_data_queue\u001b[0m\u001b[0;34m.\u001b[0m\u001b[0mget\u001b[0m\u001b[0;34m(\u001b[0m\u001b[0mtimeout\u001b[0m\u001b[0;34m=\u001b[0m\u001b[0mtimeout\u001b[0m\u001b[0;34m)\u001b[0m\u001b[0;34m\u001b[0m\u001b[0;34m\u001b[0m\u001b[0m\n\u001b[0m\u001b[1;32m   1121\u001b[0m             \u001b[0;32mreturn\u001b[0m \u001b[0;34m(\u001b[0m\u001b[0;32mTrue\u001b[0m\u001b[0;34m,\u001b[0m \u001b[0mdata\u001b[0m\u001b[0;34m)\u001b[0m\u001b[0;34m\u001b[0m\u001b[0;34m\u001b[0m\u001b[0m\n",
      "\u001b[0;32m/opt/conda/lib/python3.7/multiprocessing/queues.py\u001b[0m in \u001b[0;36mget\u001b[0;34m(self, block, timeout)\u001b[0m\n\u001b[1;32m    104\u001b[0m                     \u001b[0;32mif\u001b[0m \u001b[0;32mnot\u001b[0m \u001b[0mself\u001b[0m\u001b[0;34m.\u001b[0m\u001b[0m_poll\u001b[0m\u001b[0;34m(\u001b[0m\u001b[0mtimeout\u001b[0m\u001b[0;34m)\u001b[0m\u001b[0;34m:\u001b[0m\u001b[0;34m\u001b[0m\u001b[0;34m\u001b[0m\u001b[0m\n\u001b[0;32m--> 105\u001b[0;31m                         \u001b[0;32mraise\u001b[0m \u001b[0mEmpty\u001b[0m\u001b[0;34m\u001b[0m\u001b[0;34m\u001b[0m\u001b[0m\n\u001b[0m\u001b[1;32m    106\u001b[0m                 \u001b[0;32melif\u001b[0m \u001b[0;32mnot\u001b[0m \u001b[0mself\u001b[0m\u001b[0;34m.\u001b[0m\u001b[0m_poll\u001b[0m\u001b[0;34m(\u001b[0m\u001b[0;34m)\u001b[0m\u001b[0;34m:\u001b[0m\u001b[0;34m\u001b[0m\u001b[0;34m\u001b[0m\u001b[0m\n",
      "\u001b[0;31mEmpty\u001b[0m: ",
      "\nThe above exception was the direct cause of the following exception:\n",
      "\u001b[0;31mRuntimeError\u001b[0m                              Traceback (most recent call last)",
      "\u001b[0;32m/var/tmp/ipykernel_1420586/1483614224.py\u001b[0m in \u001b[0;36m<module>\u001b[0;34m\u001b[0m\n\u001b[1;32m      6\u001b[0m     \u001b[0;32mfor\u001b[0m \u001b[0mj_int\u001b[0m\u001b[0;34m,\u001b[0m \u001b[0mj\u001b[0m \u001b[0;32min\u001b[0m \u001b[0menumerate\u001b[0m\u001b[0;34m(\u001b[0m\u001b[0marange\u001b[0m\u001b[0;34m)\u001b[0m\u001b[0;34m:\u001b[0m\u001b[0;34m\u001b[0m\u001b[0;34m\u001b[0m\u001b[0m\n\u001b[1;32m      7\u001b[0m         \u001b[0mw\u001b[0m \u001b[0;34m=\u001b[0m \u001b[0mw1\u001b[0m \u001b[0;34m+\u001b[0m \u001b[0mi\u001b[0m\u001b[0;34m*\u001b[0m\u001b[0mnormal_u\u001b[0m \u001b[0;34m+\u001b[0m \u001b[0mj\u001b[0m\u001b[0;34m*\u001b[0m\u001b[0mnormal_v\u001b[0m\u001b[0;34m\u001b[0m\u001b[0;34m\u001b[0m\u001b[0m\n\u001b[0;32m----> 8\u001b[0;31m         \u001b[0mloss\u001b[0m \u001b[0;34m=\u001b[0m \u001b[0mevaluate_loss\u001b[0m\u001b[0;34m(\u001b[0m\u001b[0mw\u001b[0m\u001b[0;34m)\u001b[0m\u001b[0;34m\u001b[0m\u001b[0;34m\u001b[0m\u001b[0m\n\u001b[0m\u001b[1;32m      9\u001b[0m         \u001b[0mlosses\u001b[0m\u001b[0;34m[\u001b[0m\u001b[0mi_int\u001b[0m\u001b[0;34m,\u001b[0m\u001b[0mj_int\u001b[0m\u001b[0;34m]\u001b[0m \u001b[0;34m=\u001b[0m \u001b[0mloss\u001b[0m\u001b[0;34m.\u001b[0m\u001b[0mitem\u001b[0m\u001b[0;34m(\u001b[0m\u001b[0;34m)\u001b[0m\u001b[0;34m\u001b[0m\u001b[0;34m\u001b[0m\u001b[0m\n",
      "\u001b[0;32m/var/tmp/ipykernel_1420586/1841582046.py\u001b[0m in \u001b[0;36mevaluate_loss\u001b[0;34m(param_vec, verbose)\u001b[0m\n\u001b[1;32m      7\u001b[0m         \u001b[0mraw_net\u001b[0m \u001b[0;34m=\u001b[0m \u001b[0mparam_vec2net\u001b[0m\u001b[0;34m(\u001b[0m\u001b[0mparam_vec\u001b[0m\u001b[0;34m,\u001b[0m \u001b[0mparams_shapes\u001b[0m\u001b[0;34m)\u001b[0m\u001b[0;34m\u001b[0m\u001b[0;34m\u001b[0m\u001b[0m\n\u001b[1;32m      8\u001b[0m \u001b[0;34m\u001b[0m\u001b[0m\n\u001b[0;32m----> 9\u001b[0;31m         \u001b[0;32mfor\u001b[0m \u001b[0mi\u001b[0m\u001b[0;34m,\u001b[0m \u001b[0mdata\u001b[0m \u001b[0;32min\u001b[0m \u001b[0mzip\u001b[0m\u001b[0;34m(\u001b[0m\u001b[0mrange\u001b[0m\u001b[0;34m(\u001b[0m\u001b[0;36m2\u001b[0m\u001b[0;34m)\u001b[0m\u001b[0;34m,\u001b[0m \u001b[0mtestloader\u001b[0m\u001b[0;34m)\u001b[0m\u001b[0;34m:\u001b[0m\u001b[0;34m\u001b[0m\u001b[0;34m\u001b[0m\u001b[0m\n\u001b[0m\u001b[1;32m     10\u001b[0m             \u001b[0mimages\u001b[0m\u001b[0;34m,\u001b[0m \u001b[0mlabels\u001b[0m \u001b[0;34m=\u001b[0m \u001b[0mdata\u001b[0m\u001b[0;34m\u001b[0m\u001b[0;34m\u001b[0m\u001b[0m\n\u001b[1;32m     11\u001b[0m \u001b[0;34m\u001b[0m\u001b[0m\n",
      "\u001b[0;32m/opt/conda/lib/python3.7/site-packages/torch/utils/data/dataloader.py\u001b[0m in \u001b[0;36m__next__\u001b[0;34m(self)\u001b[0m\n\u001b[1;32m    626\u001b[0m                 \u001b[0;31m# TODO(https://github.com/pytorch/pytorch/issues/76750)\u001b[0m\u001b[0;34m\u001b[0m\u001b[0;34m\u001b[0m\u001b[0;34m\u001b[0m\u001b[0m\n\u001b[1;32m    627\u001b[0m                 \u001b[0mself\u001b[0m\u001b[0;34m.\u001b[0m\u001b[0m_reset\u001b[0m\u001b[0;34m(\u001b[0m\u001b[0;34m)\u001b[0m  \u001b[0;31m# type: ignore[call-arg]\u001b[0m\u001b[0;34m\u001b[0m\u001b[0;34m\u001b[0m\u001b[0m\n\u001b[0;32m--> 628\u001b[0;31m             \u001b[0mdata\u001b[0m \u001b[0;34m=\u001b[0m \u001b[0mself\u001b[0m\u001b[0;34m.\u001b[0m\u001b[0m_next_data\u001b[0m\u001b[0;34m(\u001b[0m\u001b[0;34m)\u001b[0m\u001b[0;34m\u001b[0m\u001b[0;34m\u001b[0m\u001b[0m\n\u001b[0m\u001b[1;32m    629\u001b[0m             \u001b[0mself\u001b[0m\u001b[0;34m.\u001b[0m\u001b[0m_num_yielded\u001b[0m \u001b[0;34m+=\u001b[0m \u001b[0;36m1\u001b[0m\u001b[0;34m\u001b[0m\u001b[0;34m\u001b[0m\u001b[0m\n\u001b[1;32m    630\u001b[0m             \u001b[0;32mif\u001b[0m \u001b[0mself\u001b[0m\u001b[0;34m.\u001b[0m\u001b[0m_dataset_kind\u001b[0m \u001b[0;34m==\u001b[0m \u001b[0m_DatasetKind\u001b[0m\u001b[0;34m.\u001b[0m\u001b[0mIterable\u001b[0m \u001b[0;32mand\u001b[0m\u001b[0;31m \u001b[0m\u001b[0;31m\\\u001b[0m\u001b[0;34m\u001b[0m\u001b[0;34m\u001b[0m\u001b[0m\n",
      "\u001b[0;32m/opt/conda/lib/python3.7/site-packages/torch/utils/data/dataloader.py\u001b[0m in \u001b[0;36m_next_data\u001b[0;34m(self)\u001b[0m\n\u001b[1;32m   1314\u001b[0m \u001b[0;34m\u001b[0m\u001b[0m\n\u001b[1;32m   1315\u001b[0m             \u001b[0;32massert\u001b[0m \u001b[0;32mnot\u001b[0m \u001b[0mself\u001b[0m\u001b[0;34m.\u001b[0m\u001b[0m_shutdown\u001b[0m \u001b[0;32mand\u001b[0m \u001b[0mself\u001b[0m\u001b[0;34m.\u001b[0m\u001b[0m_tasks_outstanding\u001b[0m \u001b[0;34m>\u001b[0m \u001b[0;36m0\u001b[0m\u001b[0;34m\u001b[0m\u001b[0;34m\u001b[0m\u001b[0m\n\u001b[0;32m-> 1316\u001b[0;31m             \u001b[0midx\u001b[0m\u001b[0;34m,\u001b[0m \u001b[0mdata\u001b[0m \u001b[0;34m=\u001b[0m \u001b[0mself\u001b[0m\u001b[0;34m.\u001b[0m\u001b[0m_get_data\u001b[0m\u001b[0;34m(\u001b[0m\u001b[0;34m)\u001b[0m\u001b[0;34m\u001b[0m\u001b[0;34m\u001b[0m\u001b[0m\n\u001b[0m\u001b[1;32m   1317\u001b[0m             \u001b[0mself\u001b[0m\u001b[0;34m.\u001b[0m\u001b[0m_tasks_outstanding\u001b[0m \u001b[0;34m-=\u001b[0m \u001b[0;36m1\u001b[0m\u001b[0;34m\u001b[0m\u001b[0;34m\u001b[0m\u001b[0m\n\u001b[1;32m   1318\u001b[0m             \u001b[0;32mif\u001b[0m \u001b[0mself\u001b[0m\u001b[0;34m.\u001b[0m\u001b[0m_dataset_kind\u001b[0m \u001b[0;34m==\u001b[0m \u001b[0m_DatasetKind\u001b[0m\u001b[0;34m.\u001b[0m\u001b[0mIterable\u001b[0m\u001b[0;34m:\u001b[0m\u001b[0;34m\u001b[0m\u001b[0;34m\u001b[0m\u001b[0m\n",
      "\u001b[0;32m/opt/conda/lib/python3.7/site-packages/torch/utils/data/dataloader.py\u001b[0m in \u001b[0;36m_get_data\u001b[0;34m(self)\u001b[0m\n\u001b[1;32m   1280\u001b[0m         \u001b[0;32melse\u001b[0m\u001b[0;34m:\u001b[0m\u001b[0;34m\u001b[0m\u001b[0;34m\u001b[0m\u001b[0m\n\u001b[1;32m   1281\u001b[0m             \u001b[0;32mwhile\u001b[0m \u001b[0;32mTrue\u001b[0m\u001b[0;34m:\u001b[0m\u001b[0;34m\u001b[0m\u001b[0;34m\u001b[0m\u001b[0m\n\u001b[0;32m-> 1282\u001b[0;31m                 \u001b[0msuccess\u001b[0m\u001b[0;34m,\u001b[0m \u001b[0mdata\u001b[0m \u001b[0;34m=\u001b[0m \u001b[0mself\u001b[0m\u001b[0;34m.\u001b[0m\u001b[0m_try_get_data\u001b[0m\u001b[0;34m(\u001b[0m\u001b[0;34m)\u001b[0m\u001b[0;34m\u001b[0m\u001b[0;34m\u001b[0m\u001b[0m\n\u001b[0m\u001b[1;32m   1283\u001b[0m                 \u001b[0;32mif\u001b[0m \u001b[0msuccess\u001b[0m\u001b[0;34m:\u001b[0m\u001b[0;34m\u001b[0m\u001b[0;34m\u001b[0m\u001b[0m\n\u001b[1;32m   1284\u001b[0m                     \u001b[0;32mreturn\u001b[0m \u001b[0mdata\u001b[0m\u001b[0;34m\u001b[0m\u001b[0;34m\u001b[0m\u001b[0m\n",
      "\u001b[0;32m/opt/conda/lib/python3.7/site-packages/torch/utils/data/dataloader.py\u001b[0m in \u001b[0;36m_try_get_data\u001b[0;34m(self, timeout)\u001b[0m\n\u001b[1;32m   1131\u001b[0m             \u001b[0;32mif\u001b[0m \u001b[0mlen\u001b[0m\u001b[0;34m(\u001b[0m\u001b[0mfailed_workers\u001b[0m\u001b[0;34m)\u001b[0m \u001b[0;34m>\u001b[0m \u001b[0;36m0\u001b[0m\u001b[0;34m:\u001b[0m\u001b[0;34m\u001b[0m\u001b[0;34m\u001b[0m\u001b[0m\n\u001b[1;32m   1132\u001b[0m                 \u001b[0mpids_str\u001b[0m \u001b[0;34m=\u001b[0m \u001b[0;34m', '\u001b[0m\u001b[0;34m.\u001b[0m\u001b[0mjoin\u001b[0m\u001b[0;34m(\u001b[0m\u001b[0mstr\u001b[0m\u001b[0;34m(\u001b[0m\u001b[0mw\u001b[0m\u001b[0;34m.\u001b[0m\u001b[0mpid\u001b[0m\u001b[0;34m)\u001b[0m \u001b[0;32mfor\u001b[0m \u001b[0mw\u001b[0m \u001b[0;32min\u001b[0m \u001b[0mfailed_workers\u001b[0m\u001b[0;34m)\u001b[0m\u001b[0;34m\u001b[0m\u001b[0;34m\u001b[0m\u001b[0m\n\u001b[0;32m-> 1133\u001b[0;31m                 \u001b[0;32mraise\u001b[0m \u001b[0mRuntimeError\u001b[0m\u001b[0;34m(\u001b[0m\u001b[0;34m'DataLoader worker (pid(s) {}) exited unexpectedly'\u001b[0m\u001b[0;34m.\u001b[0m\u001b[0mformat\u001b[0m\u001b[0;34m(\u001b[0m\u001b[0mpids_str\u001b[0m\u001b[0;34m)\u001b[0m\u001b[0;34m)\u001b[0m \u001b[0;32mfrom\u001b[0m \u001b[0me\u001b[0m\u001b[0;34m\u001b[0m\u001b[0;34m\u001b[0m\u001b[0m\n\u001b[0m\u001b[1;32m   1134\u001b[0m             \u001b[0;32mif\u001b[0m \u001b[0misinstance\u001b[0m\u001b[0;34m(\u001b[0m\u001b[0me\u001b[0m\u001b[0;34m,\u001b[0m \u001b[0mqueue\u001b[0m\u001b[0;34m.\u001b[0m\u001b[0mEmpty\u001b[0m\u001b[0;34m)\u001b[0m\u001b[0;34m:\u001b[0m\u001b[0;34m\u001b[0m\u001b[0;34m\u001b[0m\u001b[0m\n\u001b[1;32m   1135\u001b[0m                 \u001b[0;32mreturn\u001b[0m \u001b[0;34m(\u001b[0m\u001b[0;32mFalse\u001b[0m\u001b[0;34m,\u001b[0m \u001b[0;32mNone\u001b[0m\u001b[0;34m)\u001b[0m\u001b[0;34m\u001b[0m\u001b[0;34m\u001b[0m\u001b[0m\n",
      "\u001b[0;31mRuntimeError\u001b[0m: DataLoader worker (pid(s) 1698590) exited unexpectedly"
     ]
    }
   ],
   "source": [
    "n = 20\n",
    "losses = torch.empty(n,n)\n",
    "\n",
    "arange = torch.linspace(-max_range, max_range, n).numpy()\n",
    "for i_int, i in enumerate(tqdm(arange)):\n",
    "    for j_int, j in enumerate(arange):\n",
    "        w = w1 + i*normal_u + j*normal_v\n",
    "        loss = evaluate_loss(w)\n",
    "        losses[i_int,j_int] = loss.item()"
   ]
  },
  {
   "cell_type": "code",
   "execution_count": 124,
   "id": "8e7b2c22-1ca2-483e-9628-9eb2af5e288b",
   "metadata": {},
   "outputs": [
    {
     "data": {
      "application/vnd.plotly.v1+json": {
       "config": {
        "plotlyServerURL": "https://plot.ly"
       },
       "data": [
        {
         "contours": {
          "z": {
           "highlightcolor": "limegreen",
           "project": {
            "z": true
           },
           "show": true,
           "usecolormap": true
          }
         },
         "type": "surface",
         "z": [
          [
           1826031.625,
           1361474.75,
           987746.625,
           692856.5,
           466097.125,
           311202.1875,
           217211.15625,
           138103.953125,
           76355.3828125,
           50232.71875,
           43067.796875,
           54724.2890625,
           83616.484375,
           136653.046875,
           237410.875,
           410485.5,
           680748.875,
           1080915.75,
           1650422.25,
           2429187
          ],
          [
           1497968.5,
           1047228.6875,
           753010.875,
           522873.34375,
           347119.8125,
           218932.09375,
           145647.8125,
           91632.296875,
           49060.4375,
           29318.30859375,
           24767.3984375,
           33760.19140625,
           54972.4296875,
           97839.625,
           182790.09375,
           328203.1875,
           557998.375,
           902230.25,
           1392955.125,
           2068838.5
          ],
          [
           1396546,
           852575.5,
           560177.0625,
           384508.53125,
           252007.25,
           155292.546875,
           93313.328125,
           58041.7109375,
           30245.85546875,
           16047.5322265625,
           13320.2978515625,
           19797.39453125,
           35356.234375,
           70124.546875,
           139786.8125,
           260397.8125,
           453858.78125,
           744985.875,
           1163480.25,
           1747064.5
          ],
          [
           1264329,
           784375.25,
           451975.0625,
           273956.1875,
           176785.78125,
           106967.03125,
           59406.4375,
           34605.7265625,
           17562.37890625,
           8098.501953125,
           6586.2109375,
           10939.962890625,
           22227.611328125,
           50090.6015625,
           105934.171875,
           204561.625,
           364257.09375,
           607022.875,
           961644.375,
           1462878.25
          ],
          [
           1125566.25,
           696550.75,
           407735.8125,
           218322.3125,
           118866.484375,
           70382.5390625,
           37854.578125,
           19039.296875,
           9411.970703125,
           3680.270751953125,
           2918.55712890625,
           5668.6650390625,
           13937.14453125,
           35377.1171875,
           79215.25,
           157998.953125,
           287248.125,
           487965.53125,
           786084.3125,
           1213203.5
          ],
          [
           1021816.875,
           613899.5,
           353456.375,
           191378.375,
           92959.9375,
           43601.578125,
           22712.62890625,
           10131.169921875,
           4515.75830078125,
           1449.8240966796875,
           1118.07568359375,
           2749.06982421875,
           8695.931640625,
           24535.5078125,
           57930.0546875,
           119095.875,
           222450.90625,
           386544.375,
           634788.9375,
           995331.875
          ],
          [
           1010747.75,
           574837.75,
           312361.9375,
           162146.40625,
           78166.28125,
           33047.34375,
           12419.16796875,
           5234.5078125,
           1826.958740234375,
           476.5224609375,
           350.6515808105469,
           1265.822998046875,
           5295.8974609375,
           16488.623046875,
           40867.875,
           87491.09375,
           168828.671875,
           301098.75,
           504751.40625,
           805218.125
          ],
          [
           1157504.25,
           626073,
           318186.5625,
           150821.0625,
           66018.0234375,
           26282.755859375,
           8884.212890625,
           2312.2900390625,
           640.6978759765625,
           124.66984558105469,
           81.45416259765625,
           575.2577514648438,
           3065.88916015625,
           10456.484375,
           27715.5234375,
           62356.11328125,
           124867.2265625,
           229265.203125,
           393509.53125,
           640242.125
          ],
          [
           1513326.875,
           824901.75,
           414260.625,
           187160.6875,
           74046.0625,
           24820.04296875,
           6860.9296875,
           1464.506103515625,
           180.432373046875,
           19.0257568359375,
           11.569415092468262,
           238.4409637451172,
           1590.8115234375,
           6180.11865234375,
           17827.146484375,
           42551.6796875,
           89100.4375,
           169410.03125,
           299129.59375,
           498118.4375
          ],
          [
           2022686.75,
           1140902,
           597511.625,
           284203,
           118702.84375,
           41203.2109375,
           10760.3818359375,
           1719.01904296875,
           103.92616271972656,
           4.675195693969727,
           4.724245071411133,
           73.38944244384766,
           697.1427612304688,
           3254.80029296875,
           10546.806640625,
           27304.37109375,
           60675.2578125,
           120747.5546875,
           221053.28125,
           379082.34375
          ],
          [
           2655032.5,
           1545962.25,
           842883.5,
           422511.53125,
           189505.34375,
           72856.4375,
           22295.49609375,
           4694.41845703125,
           474.9903259277344,
           6.90786075592041,
           4.600342750549316,
           11.122358322143555,
           213.3115234375,
           1411.585693359375,
           5526.3505859375,
           16104.140625,
           38828.375,
           82028.1484375,
           157175.8125,
           279402.4375
          ],
          [
           3385934.5,
           2021448.5,
           1136429.625,
           592036.8125,
           279135.65625,
           114793,
           38677.6953125,
           9465.189453125,
           1265.5869140625,
           31.78476333618164,
           4.140929222106934,
           12.78415298461914,
           111.76995849609375,
           614.5321044921875,
           2564.697265625,
           8402.228515625,
           22655.533203125,
           51849.109375,
           105716.0703125,
           197237.703125
          ],
          [
           4208366,
           2562162.5,
           1474776,
           790855.5,
           386766.65625,
           166851.1875,
           60060.80859375,
           16250.1416015625,
           2573.0576171875,
           98.492919921875,
           4.387722492218018,
           42.265480041503906,
           150.43264770507812,
           652.103759765625,
           2064.111328125,
           5743.775390625,
           14477.5224609375,
           32979.16015625,
           68629.0546875,
           133871.890625
          ],
          [
           5122426,
           3169557.75,
           1859810.125,
           1020924.75,
           514045.9375,
           230272.125,
           87342.359375,
           25447.6640625,
           4523.93212890625,
           226.4381866455078,
           10.6868257522583,
           100.16947937011719,
           331.8293151855469,
           808.2789306640625,
           2399.86669921875,
           5887.00390625,
           12916.134765625,
           26863.75,
           52990.5546875,
           99482.140625
          ],
          [
           6133140,
           3847661.5,
           2295043.5,
           1284960.25,
           662931.0625,
           306761.46875,
           121281.828125,
           37354.41015625,
           7463.46044921875,
           434.19378662109375,
           20.46901512145996,
           192.95046997070312,
           665.5957641601562,
           1392.407470703125,
           2839.0546875,
           6736.1962890625,
           14163.208984375,
           27104.046875,
           49336.43359375,
           87150.3046875
          ],
          [
           7246355,
           4601525,
           2784066.75,
           1585674.75,
           836488.875,
           397459.0625,
           162335.28125,
           52334.203125,
           11591.6708984375,
           713.447265625,
           31.337539672851562,
           342.9219970703125,
           1110.281494140625,
           2477.34912109375,
           4242.8837890625,
           7742.162109375,
           15832.4453125,
           29863.17578125,
           52282.609375,
           87408.015625
          ],
          [
           8467703,
           5435493,
           3330877,
           1928194.75,
           1035975.0625,
           502841.3125,
           211283.5,
           71433.203125,
           16938.58203125,
           1034.3935546875,
           42.199798583984375,
           577.0648193359375,
           1699.6260986328125,
           3884.063232421875,
           6852.61376953125,
           10574.2333984375,
           17847.37890625,
           32829.45703125,
           57136.9609375,
           93837.015625
          ],
          [
           9802853,
           6355543,
           3943165,
           2313399.5,
           1261855.875,
           624347.125,
           268738.625,
           95944.6015625,
           23836.640625,
           1376.5234375,
           54.81138229370117,
           923.337646484375,
           2479.34912109375,
           5590.2265625,
           10222.5234375,
           15814.14453125,
           22935.892578125,
           36499.2890625,
           62023.85546875,
           101461.9453125
          ],
          [
           11261351,
           7372229,
           4620838,
           2741822.75,
           1516253,
           763097.6875,
           336726.53125,
           126016.921875,
           32455.8125,
           1713.756103515625,
           75.25357055664062,
           1385.98681640625,
           3509.72412109375,
           7655.1015625,
           14259.837890625,
           22643.75390625,
           32276.197265625,
           44948.65234375,
           68241.796875,
           109080.296875
          ],
          [
           12855680,
           8483813,
           5364577,
           3216136.75,
           1801102.25,
           920014.0625,
           418730.0625,
           161405.125,
           42764.94921875,
           2007.98974609375,
           110.91641235351562,
           1936.9232177734375,
           4914.185546875,
           10216.763671875,
           18920.521484375,
           30693.6484375,
           44546.375,
           60219.4765625,
           81454.46875,
           119002.5625
          ]
         ]
        }
       ],
       "layout": {
        "autosize": false,
        "height": 500,
        "margin": {
         "b": 65,
         "l": 65,
         "r": 50,
         "t": 90
        },
        "scene": {
         "aspectmode": "auto",
         "aspectratio": {
          "x": 1,
          "y": 1,
          "z": 1
         },
         "camera": {
          "center": {
           "x": 0,
           "y": 0,
           "z": 0
          },
          "eye": {
           "x": 0.4237465473855734,
           "y": 0.199410139946152,
           "z": -0.1450255563244743
          },
          "projection": {
           "type": "perspective"
          },
          "up": {
           "x": 0,
           "y": 0,
           "z": 1
          }
         }
        },
        "template": {
         "data": {
          "bar": [
           {
            "error_x": {
             "color": "#2a3f5f"
            },
            "error_y": {
             "color": "#2a3f5f"
            },
            "marker": {
             "line": {
              "color": "#E5ECF6",
              "width": 0.5
             },
             "pattern": {
              "fillmode": "overlay",
              "size": 10,
              "solidity": 0.2
             }
            },
            "type": "bar"
           }
          ],
          "barpolar": [
           {
            "marker": {
             "line": {
              "color": "#E5ECF6",
              "width": 0.5
             },
             "pattern": {
              "fillmode": "overlay",
              "size": 10,
              "solidity": 0.2
             }
            },
            "type": "barpolar"
           }
          ],
          "carpet": [
           {
            "aaxis": {
             "endlinecolor": "#2a3f5f",
             "gridcolor": "white",
             "linecolor": "white",
             "minorgridcolor": "white",
             "startlinecolor": "#2a3f5f"
            },
            "baxis": {
             "endlinecolor": "#2a3f5f",
             "gridcolor": "white",
             "linecolor": "white",
             "minorgridcolor": "white",
             "startlinecolor": "#2a3f5f"
            },
            "type": "carpet"
           }
          ],
          "choropleth": [
           {
            "colorbar": {
             "outlinewidth": 0,
             "ticks": ""
            },
            "type": "choropleth"
           }
          ],
          "contour": [
           {
            "colorbar": {
             "outlinewidth": 0,
             "ticks": ""
            },
            "colorscale": [
             [
              0,
              "#0d0887"
             ],
             [
              0.1111111111111111,
              "#46039f"
             ],
             [
              0.2222222222222222,
              "#7201a8"
             ],
             [
              0.3333333333333333,
              "#9c179e"
             ],
             [
              0.4444444444444444,
              "#bd3786"
             ],
             [
              0.5555555555555556,
              "#d8576b"
             ],
             [
              0.6666666666666666,
              "#ed7953"
             ],
             [
              0.7777777777777778,
              "#fb9f3a"
             ],
             [
              0.8888888888888888,
              "#fdca26"
             ],
             [
              1,
              "#f0f921"
             ]
            ],
            "type": "contour"
           }
          ],
          "contourcarpet": [
           {
            "colorbar": {
             "outlinewidth": 0,
             "ticks": ""
            },
            "type": "contourcarpet"
           }
          ],
          "heatmap": [
           {
            "colorbar": {
             "outlinewidth": 0,
             "ticks": ""
            },
            "colorscale": [
             [
              0,
              "#0d0887"
             ],
             [
              0.1111111111111111,
              "#46039f"
             ],
             [
              0.2222222222222222,
              "#7201a8"
             ],
             [
              0.3333333333333333,
              "#9c179e"
             ],
             [
              0.4444444444444444,
              "#bd3786"
             ],
             [
              0.5555555555555556,
              "#d8576b"
             ],
             [
              0.6666666666666666,
              "#ed7953"
             ],
             [
              0.7777777777777778,
              "#fb9f3a"
             ],
             [
              0.8888888888888888,
              "#fdca26"
             ],
             [
              1,
              "#f0f921"
             ]
            ],
            "type": "heatmap"
           }
          ],
          "heatmapgl": [
           {
            "colorbar": {
             "outlinewidth": 0,
             "ticks": ""
            },
            "colorscale": [
             [
              0,
              "#0d0887"
             ],
             [
              0.1111111111111111,
              "#46039f"
             ],
             [
              0.2222222222222222,
              "#7201a8"
             ],
             [
              0.3333333333333333,
              "#9c179e"
             ],
             [
              0.4444444444444444,
              "#bd3786"
             ],
             [
              0.5555555555555556,
              "#d8576b"
             ],
             [
              0.6666666666666666,
              "#ed7953"
             ],
             [
              0.7777777777777778,
              "#fb9f3a"
             ],
             [
              0.8888888888888888,
              "#fdca26"
             ],
             [
              1,
              "#f0f921"
             ]
            ],
            "type": "heatmapgl"
           }
          ],
          "histogram": [
           {
            "marker": {
             "pattern": {
              "fillmode": "overlay",
              "size": 10,
              "solidity": 0.2
             }
            },
            "type": "histogram"
           }
          ],
          "histogram2d": [
           {
            "colorbar": {
             "outlinewidth": 0,
             "ticks": ""
            },
            "colorscale": [
             [
              0,
              "#0d0887"
             ],
             [
              0.1111111111111111,
              "#46039f"
             ],
             [
              0.2222222222222222,
              "#7201a8"
             ],
             [
              0.3333333333333333,
              "#9c179e"
             ],
             [
              0.4444444444444444,
              "#bd3786"
             ],
             [
              0.5555555555555556,
              "#d8576b"
             ],
             [
              0.6666666666666666,
              "#ed7953"
             ],
             [
              0.7777777777777778,
              "#fb9f3a"
             ],
             [
              0.8888888888888888,
              "#fdca26"
             ],
             [
              1,
              "#f0f921"
             ]
            ],
            "type": "histogram2d"
           }
          ],
          "histogram2dcontour": [
           {
            "colorbar": {
             "outlinewidth": 0,
             "ticks": ""
            },
            "colorscale": [
             [
              0,
              "#0d0887"
             ],
             [
              0.1111111111111111,
              "#46039f"
             ],
             [
              0.2222222222222222,
              "#7201a8"
             ],
             [
              0.3333333333333333,
              "#9c179e"
             ],
             [
              0.4444444444444444,
              "#bd3786"
             ],
             [
              0.5555555555555556,
              "#d8576b"
             ],
             [
              0.6666666666666666,
              "#ed7953"
             ],
             [
              0.7777777777777778,
              "#fb9f3a"
             ],
             [
              0.8888888888888888,
              "#fdca26"
             ],
             [
              1,
              "#f0f921"
             ]
            ],
            "type": "histogram2dcontour"
           }
          ],
          "mesh3d": [
           {
            "colorbar": {
             "outlinewidth": 0,
             "ticks": ""
            },
            "type": "mesh3d"
           }
          ],
          "parcoords": [
           {
            "line": {
             "colorbar": {
              "outlinewidth": 0,
              "ticks": ""
             }
            },
            "type": "parcoords"
           }
          ],
          "pie": [
           {
            "automargin": true,
            "type": "pie"
           }
          ],
          "scatter": [
           {
            "fillpattern": {
             "fillmode": "overlay",
             "size": 10,
             "solidity": 0.2
            },
            "type": "scatter"
           }
          ],
          "scatter3d": [
           {
            "line": {
             "colorbar": {
              "outlinewidth": 0,
              "ticks": ""
             }
            },
            "marker": {
             "colorbar": {
              "outlinewidth": 0,
              "ticks": ""
             }
            },
            "type": "scatter3d"
           }
          ],
          "scattercarpet": [
           {
            "marker": {
             "colorbar": {
              "outlinewidth": 0,
              "ticks": ""
             }
            },
            "type": "scattercarpet"
           }
          ],
          "scattergeo": [
           {
            "marker": {
             "colorbar": {
              "outlinewidth": 0,
              "ticks": ""
             }
            },
            "type": "scattergeo"
           }
          ],
          "scattergl": [
           {
            "marker": {
             "colorbar": {
              "outlinewidth": 0,
              "ticks": ""
             }
            },
            "type": "scattergl"
           }
          ],
          "scattermapbox": [
           {
            "marker": {
             "colorbar": {
              "outlinewidth": 0,
              "ticks": ""
             }
            },
            "type": "scattermapbox"
           }
          ],
          "scatterpolar": [
           {
            "marker": {
             "colorbar": {
              "outlinewidth": 0,
              "ticks": ""
             }
            },
            "type": "scatterpolar"
           }
          ],
          "scatterpolargl": [
           {
            "marker": {
             "colorbar": {
              "outlinewidth": 0,
              "ticks": ""
             }
            },
            "type": "scatterpolargl"
           }
          ],
          "scatterternary": [
           {
            "marker": {
             "colorbar": {
              "outlinewidth": 0,
              "ticks": ""
             }
            },
            "type": "scatterternary"
           }
          ],
          "surface": [
           {
            "colorbar": {
             "outlinewidth": 0,
             "ticks": ""
            },
            "colorscale": [
             [
              0,
              "#0d0887"
             ],
             [
              0.1111111111111111,
              "#46039f"
             ],
             [
              0.2222222222222222,
              "#7201a8"
             ],
             [
              0.3333333333333333,
              "#9c179e"
             ],
             [
              0.4444444444444444,
              "#bd3786"
             ],
             [
              0.5555555555555556,
              "#d8576b"
             ],
             [
              0.6666666666666666,
              "#ed7953"
             ],
             [
              0.7777777777777778,
              "#fb9f3a"
             ],
             [
              0.8888888888888888,
              "#fdca26"
             ],
             [
              1,
              "#f0f921"
             ]
            ],
            "type": "surface"
           }
          ],
          "table": [
           {
            "cells": {
             "fill": {
              "color": "#EBF0F8"
             },
             "line": {
              "color": "white"
             }
            },
            "header": {
             "fill": {
              "color": "#C8D4E3"
             },
             "line": {
              "color": "white"
             }
            },
            "type": "table"
           }
          ]
         },
         "layout": {
          "annotationdefaults": {
           "arrowcolor": "#2a3f5f",
           "arrowhead": 0,
           "arrowwidth": 1
          },
          "autotypenumbers": "strict",
          "coloraxis": {
           "colorbar": {
            "outlinewidth": 0,
            "ticks": ""
           }
          },
          "colorscale": {
           "diverging": [
            [
             0,
             "#8e0152"
            ],
            [
             0.1,
             "#c51b7d"
            ],
            [
             0.2,
             "#de77ae"
            ],
            [
             0.3,
             "#f1b6da"
            ],
            [
             0.4,
             "#fde0ef"
            ],
            [
             0.5,
             "#f7f7f7"
            ],
            [
             0.6,
             "#e6f5d0"
            ],
            [
             0.7,
             "#b8e186"
            ],
            [
             0.8,
             "#7fbc41"
            ],
            [
             0.9,
             "#4d9221"
            ],
            [
             1,
             "#276419"
            ]
           ],
           "sequential": [
            [
             0,
             "#0d0887"
            ],
            [
             0.1111111111111111,
             "#46039f"
            ],
            [
             0.2222222222222222,
             "#7201a8"
            ],
            [
             0.3333333333333333,
             "#9c179e"
            ],
            [
             0.4444444444444444,
             "#bd3786"
            ],
            [
             0.5555555555555556,
             "#d8576b"
            ],
            [
             0.6666666666666666,
             "#ed7953"
            ],
            [
             0.7777777777777778,
             "#fb9f3a"
            ],
            [
             0.8888888888888888,
             "#fdca26"
            ],
            [
             1,
             "#f0f921"
            ]
           ],
           "sequentialminus": [
            [
             0,
             "#0d0887"
            ],
            [
             0.1111111111111111,
             "#46039f"
            ],
            [
             0.2222222222222222,
             "#7201a8"
            ],
            [
             0.3333333333333333,
             "#9c179e"
            ],
            [
             0.4444444444444444,
             "#bd3786"
            ],
            [
             0.5555555555555556,
             "#d8576b"
            ],
            [
             0.6666666666666666,
             "#ed7953"
            ],
            [
             0.7777777777777778,
             "#fb9f3a"
            ],
            [
             0.8888888888888888,
             "#fdca26"
            ],
            [
             1,
             "#f0f921"
            ]
           ]
          },
          "colorway": [
           "#636efa",
           "#EF553B",
           "#00cc96",
           "#ab63fa",
           "#FFA15A",
           "#19d3f3",
           "#FF6692",
           "#B6E880",
           "#FF97FF",
           "#FECB52"
          ],
          "font": {
           "color": "#2a3f5f"
          },
          "geo": {
           "bgcolor": "white",
           "lakecolor": "white",
           "landcolor": "#E5ECF6",
           "showlakes": true,
           "showland": true,
           "subunitcolor": "white"
          },
          "hoverlabel": {
           "align": "left"
          },
          "hovermode": "closest",
          "mapbox": {
           "style": "light"
          },
          "paper_bgcolor": "white",
          "plot_bgcolor": "#E5ECF6",
          "polar": {
           "angularaxis": {
            "gridcolor": "white",
            "linecolor": "white",
            "ticks": ""
           },
           "bgcolor": "#E5ECF6",
           "radialaxis": {
            "gridcolor": "white",
            "linecolor": "white",
            "ticks": ""
           }
          },
          "scene": {
           "xaxis": {
            "backgroundcolor": "#E5ECF6",
            "gridcolor": "white",
            "gridwidth": 2,
            "linecolor": "white",
            "showbackground": true,
            "ticks": "",
            "zerolinecolor": "white"
           },
           "yaxis": {
            "backgroundcolor": "#E5ECF6",
            "gridcolor": "white",
            "gridwidth": 2,
            "linecolor": "white",
            "showbackground": true,
            "ticks": "",
            "zerolinecolor": "white"
           },
           "zaxis": {
            "backgroundcolor": "#E5ECF6",
            "gridcolor": "white",
            "gridwidth": 2,
            "linecolor": "white",
            "showbackground": true,
            "ticks": "",
            "zerolinecolor": "white"
           }
          },
          "shapedefaults": {
           "line": {
            "color": "#2a3f5f"
           }
          },
          "ternary": {
           "aaxis": {
            "gridcolor": "white",
            "linecolor": "white",
            "ticks": ""
           },
           "baxis": {
            "gridcolor": "white",
            "linecolor": "white",
            "ticks": ""
           },
           "bgcolor": "#E5ECF6",
           "caxis": {
            "gridcolor": "white",
            "linecolor": "white",
            "ticks": ""
           }
          },
          "title": {
           "x": 0.05
          },
          "xaxis": {
           "automargin": true,
           "gridcolor": "white",
           "linecolor": "white",
           "ticks": "",
           "title": {
            "standoff": 15
           },
           "zerolinecolor": "white",
           "zerolinewidth": 2
          },
          "yaxis": {
           "automargin": true,
           "gridcolor": "white",
           "linecolor": "white",
           "ticks": "",
           "title": {
            "standoff": 15
           },
           "zerolinecolor": "white",
           "zerolinewidth": 2
          }
         }
        },
        "title": {
         "text": "random plane"
        },
        "width": 500
       }
      },
      "image/png": "[encoded data removed]",
      "text/html": [
       "<div>                            <div id=\"5568012a-c855-46d1-a006-cbe1ea45518d\" class=\"plotly-graph-div\" style=\"height:500px; width:500px;\"></div>            <script type=\"text/javascript\">                require([\"plotly\"], function(Plotly) {                    window.PLOTLYENV=window.PLOTLYENV || {};                                    if (document.getElementById(\"5568012a-c855-46d1-a006-cbe1ea45518d\")) {                    Plotly.newPlot(                        \"5568012a-c855-46d1-a006-cbe1ea45518d\",                        [{\"z\":[[1826031.625,1361474.75,987746.625,692856.5,466097.125,311202.1875,217211.15625,138103.953125,76355.3828125,50232.71875,43067.796875,54724.2890625,83616.484375,136653.046875,237410.875,410485.5,680748.875,1080915.75,1650422.25,2429187.0],[1497968.5,1047228.6875,753010.875,522873.34375,347119.8125,218932.09375,145647.8125,91632.296875,49060.4375,29318.30859375,24767.3984375,33760.19140625,54972.4296875,97839.625,182790.09375,328203.1875,557998.375,902230.25,1392955.125,2068838.5],[1396546.0,852575.5,560177.0625,384508.53125,252007.25,155292.546875,93313.328125,58041.7109375,30245.85546875,16047.5322265625,13320.2978515625,19797.39453125,35356.234375,70124.546875,139786.8125,260397.8125,453858.78125,744985.875,1163480.25,1747064.5],[1264329.0,784375.25,451975.0625,273956.1875,176785.78125,106967.03125,59406.4375,34605.7265625,17562.37890625,8098.501953125,6586.2109375,10939.962890625,22227.611328125,50090.6015625,105934.171875,204561.625,364257.09375,607022.875,961644.375,1462878.25],[1125566.25,696550.75,407735.8125,218322.3125,118866.484375,70382.5390625,37854.578125,19039.296875,9411.970703125,3680.270751953125,2918.55712890625,5668.6650390625,13937.14453125,35377.1171875,79215.25,157998.953125,287248.125,487965.53125,786084.3125,1213203.5],[1021816.875,613899.5,353456.375,191378.375,92959.9375,43601.578125,22712.62890625,10131.169921875,4515.75830078125,1449.8240966796875,1118.07568359375,2749.06982421875,8695.931640625,24535.5078125,57930.0546875,119095.875,222450.90625,386544.375,634788.9375,995331.875],[1010747.75,574837.75,312361.9375,162146.40625,78166.28125,33047.34375,12419.16796875,5234.5078125,1826.958740234375,476.5224609375,350.6515808105469,1265.822998046875,5295.8974609375,16488.623046875,40867.875,87491.09375,168828.671875,301098.75,504751.40625,805218.125],[1157504.25,626073.0,318186.5625,150821.0625,66018.0234375,26282.755859375,8884.212890625,2312.2900390625,640.6978759765625,124.66984558105469,81.45416259765625,575.2577514648438,3065.88916015625,10456.484375,27715.5234375,62356.11328125,124867.2265625,229265.203125,393509.53125,640242.125],[1513326.875,824901.75,414260.625,187160.6875,74046.0625,24820.04296875,6860.9296875,1464.506103515625,180.432373046875,19.0257568359375,11.569415092468262,238.4409637451172,1590.8115234375,6180.11865234375,17827.146484375,42551.6796875,89100.4375,169410.03125,299129.59375,498118.4375],[2022686.75,1140902.0,597511.625,284203.0,118702.84375,41203.2109375,10760.3818359375,1719.01904296875,103.92616271972656,4.675195693969727,4.724245071411133,73.38944244384766,697.1427612304688,3254.80029296875,10546.806640625,27304.37109375,60675.2578125,120747.5546875,221053.28125,379082.34375],[2655032.5,1545962.25,842883.5,422511.53125,189505.34375,72856.4375,22295.49609375,4694.41845703125,474.9903259277344,6.90786075592041,4.600342750549316,11.122358322143555,213.3115234375,1411.585693359375,5526.3505859375,16104.140625,38828.375,82028.1484375,157175.8125,279402.4375],[3385934.5,2021448.5,1136429.625,592036.8125,279135.65625,114793.0,38677.6953125,9465.189453125,1265.5869140625,31.78476333618164,4.140929222106934,12.78415298461914,111.76995849609375,614.5321044921875,2564.697265625,8402.228515625,22655.533203125,51849.109375,105716.0703125,197237.703125],[4208366.0,2562162.5,1474776.0,790855.5,386766.65625,166851.1875,60060.80859375,16250.1416015625,2573.0576171875,98.492919921875,4.387722492218018,42.265480041503906,150.43264770507812,652.103759765625,2064.111328125,5743.775390625,14477.5224609375,32979.16015625,68629.0546875,133871.890625],[5122426.0,3169557.75,1859810.125,1020924.75,514045.9375,230272.125,87342.359375,25447.6640625,4523.93212890625,226.4381866455078,10.6868257522583,100.16947937011719,331.8293151855469,808.2789306640625,2399.86669921875,5887.00390625,12916.134765625,26863.75,52990.5546875,99482.140625],[6133140.0,3847661.5,2295043.5,1284960.25,662931.0625,306761.46875,121281.828125,37354.41015625,7463.46044921875,434.19378662109375,20.46901512145996,192.95046997070312,665.5957641601562,1392.407470703125,2839.0546875,6736.1962890625,14163.208984375,27104.046875,49336.43359375,87150.3046875],[7246355.0,4601525.0,2784066.75,1585674.75,836488.875,397459.0625,162335.28125,52334.203125,11591.6708984375,713.447265625,31.337539672851562,342.9219970703125,1110.281494140625,2477.34912109375,4242.8837890625,7742.162109375,15832.4453125,29863.17578125,52282.609375,87408.015625],[8467703.0,5435493.0,3330877.0,1928194.75,1035975.0625,502841.3125,211283.5,71433.203125,16938.58203125,1034.3935546875,42.199798583984375,577.0648193359375,1699.6260986328125,3884.063232421875,6852.61376953125,10574.2333984375,17847.37890625,32829.45703125,57136.9609375,93837.015625],[9802853.0,6355543.0,3943165.0,2313399.5,1261855.875,624347.125,268738.625,95944.6015625,23836.640625,1376.5234375,54.81138229370117,923.337646484375,2479.34912109375,5590.2265625,10222.5234375,15814.14453125,22935.892578125,36499.2890625,62023.85546875,101461.9453125],[11261351.0,7372229.0,4620838.0,2741822.75,1516253.0,763097.6875,336726.53125,126016.921875,32455.8125,1713.756103515625,75.25357055664062,1385.98681640625,3509.72412109375,7655.1015625,14259.837890625,22643.75390625,32276.197265625,44948.65234375,68241.796875,109080.296875],[12855680.0,8483813.0,5364577.0,3216136.75,1801102.25,920014.0625,418730.0625,161405.125,42764.94921875,2007.98974609375,110.91641235351562,1936.9232177734375,4914.185546875,10216.763671875,18920.521484375,30693.6484375,44546.375,60219.4765625,81454.46875,119002.5625]],\"type\":\"surface\",\"contours\":{\"z\":{\"project\":{\"z\":true},\"highlightcolor\":\"limegreen\",\"show\":true,\"usecolormap\":true}}}],                        {\"template\":{\"data\":{\"histogram2dcontour\":[{\"type\":\"histogram2dcontour\",\"colorbar\":{\"outlinewidth\":0,\"ticks\":\"\"},\"colorscale\":[[0.0,\"#0d0887\"],[0.1111111111111111,\"#46039f\"],[0.2222222222222222,\"#7201a8\"],[0.3333333333333333,\"#9c179e\"],[0.4444444444444444,\"#bd3786\"],[0.5555555555555556,\"#d8576b\"],[0.6666666666666666,\"#ed7953\"],[0.7777777777777778,\"#fb9f3a\"],[0.8888888888888888,\"#fdca26\"],[1.0,\"#f0f921\"]]}],\"choropleth\":[{\"type\":\"choropleth\",\"colorbar\":{\"outlinewidth\":0,\"ticks\":\"\"}}],\"histogram2d\":[{\"type\":\"histogram2d\",\"colorbar\":{\"outlinewidth\":0,\"ticks\":\"\"},\"colorscale\":[[0.0,\"#0d0887\"],[0.1111111111111111,\"#46039f\"],[0.2222222222222222,\"#7201a8\"],[0.3333333333333333,\"#9c179e\"],[0.4444444444444444,\"#bd3786\"],[0.5555555555555556,\"#d8576b\"],[0.6666666666666666,\"#ed7953\"],[0.7777777777777778,\"#fb9f3a\"],[0.8888888888888888,\"#fdca26\"],[1.0,\"#f0f921\"]]}],\"heatmap\":[{\"type\":\"heatmap\",\"colorbar\":{\"outlinewidth\":0,\"ticks\":\"\"},\"colorscale\":[[0.0,\"#0d0887\"],[0.1111111111111111,\"#46039f\"],[0.2222222222222222,\"#7201a8\"],[0.3333333333333333,\"#9c179e\"],[0.4444444444444444,\"#bd3786\"],[0.5555555555555556,\"#d8576b\"],[0.6666666666666666,\"#ed7953\"],[0.7777777777777778,\"#fb9f3a\"],[0.8888888888888888,\"#fdca26\"],[1.0,\"#f0f921\"]]}],\"heatmapgl\":[{\"type\":\"heatmapgl\",\"colorbar\":{\"outlinewidth\":0,\"ticks\":\"\"},\"colorscale\":[[0.0,\"#0d0887\"],[0.1111111111111111,\"#46039f\"],[0.2222222222222222,\"#7201a8\"],[0.3333333333333333,\"#9c179e\"],[0.4444444444444444,\"#bd3786\"],[0.5555555555555556,\"#d8576b\"],[0.6666666666666666,\"#ed7953\"],[0.7777777777777778,\"#fb9f3a\"],[0.8888888888888888,\"#fdca26\"],[1.0,\"#f0f921\"]]}],\"contourcarpet\":[{\"type\":\"contourcarpet\",\"colorbar\":{\"outlinewidth\":0,\"ticks\":\"\"}}],\"contour\":[{\"type\":\"contour\",\"colorbar\":{\"outlinewidth\":0,\"ticks\":\"\"},\"colorscale\":[[0.0,\"#0d0887\"],[0.1111111111111111,\"#46039f\"],[0.2222222222222222,\"#7201a8\"],[0.3333333333333333,\"#9c179e\"],[0.4444444444444444,\"#bd3786\"],[0.5555555555555556,\"#d8576b\"],[0.6666666666666666,\"#ed7953\"],[0.7777777777777778,\"#fb9f3a\"],[0.8888888888888888,\"#fdca26\"],[1.0,\"#f0f921\"]]}],\"surface\":[{\"type\":\"surface\",\"colorbar\":{\"outlinewidth\":0,\"ticks\":\"\"},\"colorscale\":[[0.0,\"#0d0887\"],[0.1111111111111111,\"#46039f\"],[0.2222222222222222,\"#7201a8\"],[0.3333333333333333,\"#9c179e\"],[0.4444444444444444,\"#bd3786\"],[0.5555555555555556,\"#d8576b\"],[0.6666666666666666,\"#ed7953\"],[0.7777777777777778,\"#fb9f3a\"],[0.8888888888888888,\"#fdca26\"],[1.0,\"#f0f921\"]]}],\"mesh3d\":[{\"type\":\"mesh3d\",\"colorbar\":{\"outlinewidth\":0,\"ticks\":\"\"}}],\"scatter\":[{\"fillpattern\":{\"fillmode\":\"overlay\",\"size\":10,\"solidity\":0.2},\"type\":\"scatter\"}],\"parcoords\":[{\"type\":\"parcoords\",\"line\":{\"colorbar\":{\"outlinewidth\":0,\"ticks\":\"\"}}}],\"scatterpolargl\":[{\"type\":\"scatterpolargl\",\"marker\":{\"colorbar\":{\"outlinewidth\":0,\"ticks\":\"\"}}}],\"bar\":[{\"error_x\":{\"color\":\"#2a3f5f\"},\"error_y\":{\"color\":\"#2a3f5f\"},\"marker\":{\"line\":{\"color\":\"#E5ECF6\",\"width\":0.5},\"pattern\":{\"fillmode\":\"overlay\",\"size\":10,\"solidity\":0.2}},\"type\":\"bar\"}],\"scattergeo\":[{\"type\":\"scattergeo\",\"marker\":{\"colorbar\":{\"outlinewidth\":0,\"ticks\":\"\"}}}],\"scatterpolar\":[{\"type\":\"scatterpolar\",\"marker\":{\"colorbar\":{\"outlinewidth\":0,\"ticks\":\"\"}}}],\"histogram\":[{\"marker\":{\"pattern\":{\"fillmode\":\"overlay\",\"size\":10,\"solidity\":0.2}},\"type\":\"histogram\"}],\"scattergl\":[{\"type\":\"scattergl\",\"marker\":{\"colorbar\":{\"outlinewidth\":0,\"ticks\":\"\"}}}],\"scatter3d\":[{\"type\":\"scatter3d\",\"line\":{\"colorbar\":{\"outlinewidth\":0,\"ticks\":\"\"}},\"marker\":{\"colorbar\":{\"outlinewidth\":0,\"ticks\":\"\"}}}],\"scattermapbox\":[{\"type\":\"scattermapbox\",\"marker\":{\"colorbar\":{\"outlinewidth\":0,\"ticks\":\"\"}}}],\"scatterternary\":[{\"type\":\"scatterternary\",\"marker\":{\"colorbar\":{\"outlinewidth\":0,\"ticks\":\"\"}}}],\"scattercarpet\":[{\"type\":\"scattercarpet\",\"marker\":{\"colorbar\":{\"outlinewidth\":0,\"ticks\":\"\"}}}],\"carpet\":[{\"aaxis\":{\"endlinecolor\":\"#2a3f5f\",\"gridcolor\":\"white\",\"linecolor\":\"white\",\"minorgridcolor\":\"white\",\"startlinecolor\":\"#2a3f5f\"},\"baxis\":{\"endlinecolor\":\"#2a3f5f\",\"gridcolor\":\"white\",\"linecolor\":\"white\",\"minorgridcolor\":\"white\",\"startlinecolor\":\"#2a3f5f\"},\"type\":\"carpet\"}],\"table\":[{\"cells\":{\"fill\":{\"color\":\"#EBF0F8\"},\"line\":{\"color\":\"white\"}},\"header\":{\"fill\":{\"color\":\"#C8D4E3\"},\"line\":{\"color\":\"white\"}},\"type\":\"table\"}],\"barpolar\":[{\"marker\":{\"line\":{\"color\":\"#E5ECF6\",\"width\":0.5},\"pattern\":{\"fillmode\":\"overlay\",\"size\":10,\"solidity\":0.2}},\"type\":\"barpolar\"}],\"pie\":[{\"automargin\":true,\"type\":\"pie\"}]},\"layout\":{\"autotypenumbers\":\"strict\",\"colorway\":[\"#636efa\",\"#EF553B\",\"#00cc96\",\"#ab63fa\",\"#FFA15A\",\"#19d3f3\",\"#FF6692\",\"#B6E880\",\"#FF97FF\",\"#FECB52\"],\"font\":{\"color\":\"#2a3f5f\"},\"hovermode\":\"closest\",\"hoverlabel\":{\"align\":\"left\"},\"paper_bgcolor\":\"white\",\"plot_bgcolor\":\"#E5ECF6\",\"polar\":{\"bgcolor\":\"#E5ECF6\",\"angularaxis\":{\"gridcolor\":\"white\",\"linecolor\":\"white\",\"ticks\":\"\"},\"radialaxis\":{\"gridcolor\":\"white\",\"linecolor\":\"white\",\"ticks\":\"\"}},\"ternary\":{\"bgcolor\":\"#E5ECF6\",\"aaxis\":{\"gridcolor\":\"white\",\"linecolor\":\"white\",\"ticks\":\"\"},\"baxis\":{\"gridcolor\":\"white\",\"linecolor\":\"white\",\"ticks\":\"\"},\"caxis\":{\"gridcolor\":\"white\",\"linecolor\":\"white\",\"ticks\":\"\"}},\"coloraxis\":{\"colorbar\":{\"outlinewidth\":0,\"ticks\":\"\"}},\"colorscale\":{\"sequential\":[[0.0,\"#0d0887\"],[0.1111111111111111,\"#46039f\"],[0.2222222222222222,\"#7201a8\"],[0.3333333333333333,\"#9c179e\"],[0.4444444444444444,\"#bd3786\"],[0.5555555555555556,\"#d8576b\"],[0.6666666666666666,\"#ed7953\"],[0.7777777777777778,\"#fb9f3a\"],[0.8888888888888888,\"#fdca26\"],[1.0,\"#f0f921\"]],\"sequentialminus\":[[0.0,\"#0d0887\"],[0.1111111111111111,\"#46039f\"],[0.2222222222222222,\"#7201a8\"],[0.3333333333333333,\"#9c179e\"],[0.4444444444444444,\"#bd3786\"],[0.5555555555555556,\"#d8576b\"],[0.6666666666666666,\"#ed7953\"],[0.7777777777777778,\"#fb9f3a\"],[0.8888888888888888,\"#fdca26\"],[1.0,\"#f0f921\"]],\"diverging\":[[0,\"#8e0152\"],[0.1,\"#c51b7d\"],[0.2,\"#de77ae\"],[0.3,\"#f1b6da\"],[0.4,\"#fde0ef\"],[0.5,\"#f7f7f7\"],[0.6,\"#e6f5d0\"],[0.7,\"#b8e186\"],[0.8,\"#7fbc41\"],[0.9,\"#4d9221\"],[1,\"#276419\"]]},\"xaxis\":{\"gridcolor\":\"white\",\"linecolor\":\"white\",\"ticks\":\"\",\"title\":{\"standoff\":15},\"zerolinecolor\":\"white\",\"automargin\":true,\"zerolinewidth\":2},\"yaxis\":{\"gridcolor\":\"white\",\"linecolor\":\"white\",\"ticks\":\"\",\"title\":{\"standoff\":15},\"zerolinecolor\":\"white\",\"automargin\":true,\"zerolinewidth\":2},\"scene\":{\"xaxis\":{\"backgroundcolor\":\"#E5ECF6\",\"gridcolor\":\"white\",\"linecolor\":\"white\",\"showbackground\":true,\"ticks\":\"\",\"zerolinecolor\":\"white\",\"gridwidth\":2},\"yaxis\":{\"backgroundcolor\":\"#E5ECF6\",\"gridcolor\":\"white\",\"linecolor\":\"white\",\"showbackground\":true,\"ticks\":\"\",\"zerolinecolor\":\"white\",\"gridwidth\":2},\"zaxis\":{\"backgroundcolor\":\"#E5ECF6\",\"gridcolor\":\"white\",\"linecolor\":\"white\",\"showbackground\":true,\"ticks\":\"\",\"zerolinecolor\":\"white\",\"gridwidth\":2}},\"shapedefaults\":{\"line\":{\"color\":\"#2a3f5f\"}},\"annotationdefaults\":{\"arrowcolor\":\"#2a3f5f\",\"arrowhead\":0,\"arrowwidth\":1},\"geo\":{\"bgcolor\":\"white\",\"landcolor\":\"#E5ECF6\",\"subunitcolor\":\"white\",\"showland\":true,\"showlakes\":true,\"lakecolor\":\"white\"},\"title\":{\"x\":0.05},\"mapbox\":{\"style\":\"light\"}}},\"scene\":{\"camera\":{\"eye\":{\"x\":1.87,\"y\":0.88,\"z\":-0.64}}},\"margin\":{\"l\":65,\"r\":50,\"b\":65,\"t\":90},\"title\":{\"text\":\"random plane\"},\"autosize\":false,\"width\":500,\"height\":500},                        {\"responsive\": true}                    ).then(function(){\n",
       "                            \n",
       "var gd = document.getElementById('5568012a-c855-46d1-a006-cbe1ea45518d');\n",
       "var x = new MutationObserver(function (mutations, observer) {{\n",
       "        var display = window.getComputedStyle(gd).display;\n",
       "        if (!display || display === 'none') {{\n",
       "            console.log([gd, 'removed!']);\n",
       "            Plotly.purge(gd);\n",
       "            observer.disconnect();\n",
       "        }}\n",
       "}});\n",
       "\n",
       "// Listen for the removal of the full notebook cells\n",
       "var notebookContainer = gd.closest('#notebook-container');\n",
       "if (notebookContainer) {{\n",
       "    x.observe(notebookContainer, {childList: true});\n",
       "}}\n",
       "\n",
       "// Listen for the clearing of the current output cell\n",
       "var outputEl = gd.closest('.output');\n",
       "if (outputEl) {{\n",
       "    x.observe(outputEl, {childList: true});\n",
       "}}\n",
       "\n",
       "                        })                };                });            </script>        </div>"
      ]
     },
     "metadata": {},
     "output_type": "display_data"
    }
   ],
   "source": [
    "import plotly.graph_objects as go\n",
    "\n",
    "fig = go.Figure(data=[go.Surface(z=losses)])\n",
    "fig.update_traces(contours_z=dict(show=True, usecolormap=True,\n",
    "                                  highlightcolor=\"limegreen\", project_z=True))\n",
    "fig.update_layout(title='random plane', autosize=False,\n",
    "                  scene_camera_eye=dict(x=1.87, y=0.88, z=-0.64),\n",
    "                  width=500, height=500,\n",
    "                  margin=dict(l=65, r=50, b=65, t=90)\n",
    ")\n",
    "\n",
    "fig.show()"
   ]
  },
  {
   "cell_type": "markdown",
   "id": "cb58b9da-c0ea-4fd8-b6a0-430ffe197455",
   "metadata": {},
   "source": [
    "# Mode connectivity"
   ]
  },
  {
   "cell_type": "markdown",
   "id": "ef9ac06d-d70e-40d7-bcd0-cf8915ba0115",
   "metadata": {},
   "source": [
    "$\\phi$"
   ]
  },
  {
   "cell_type": "code",
   "execution_count": 133,
   "id": "51cbcbe1-7966-48ed-8d1b-8f3ff5f98d7b",
   "metadata": {},
   "outputs": [
    {
     "data": {
      "text/plain": [
       "tensor grad MeanBackward0 cuda:0 -0.001"
      ]
     },
     "execution_count": 133,
     "metadata": {},
     "output_type": "execute_result"
    }
   ],
   "source": []
  },
  {
   "cell_type": "code",
   "execution_count": 21,
   "id": "3f1bcd5b-3872-4381-a347-a7b618e48ff5",
   "metadata": {},
   "outputs": [],
   "source": [
    "class BezierConnectome:\n",
    "    def __init__(self, w1, w2):\n",
    "        self.theta = torch.randn_like(w1) * w1.std()\n",
    "\n",
    "        self.w1 = w1\n",
    "        self.w2 = w2\n",
    "        \n",
    "    def phi(self, t):\n",
    "        return (1-t**2)*self.w1 + 2*t*(1.-t)*self.theta + t**2*self.w2"
   ]
  },
  {
   "cell_type": "code",
   "execution_count": 22,
   "id": "f45696f0-d3b3-4ece-ade6-19e7d07621e9",
   "metadata": {},
   "outputs": [],
   "source": [
    "w2, w3 = param_vec2, param_vec3"
   ]
  },
  {
   "cell_type": "code",
   "execution_count": 23,
   "id": "d081f707-df3c-4368-923c-6f914f634290",
   "metadata": {},
   "outputs": [],
   "source": [
    "connectome = BezierConnectome(w2, w3)"
   ]
  },
  {
   "cell_type": "code",
   "execution_count": 29,
   "id": "48496f09-5a48-4f70-a1de-29dd92db6578",
   "metadata": {},
   "outputs": [],
   "source": [
    "connectome.theta = connectome.theta.detach()\n",
    "connectome.theta.requires_grad=True\n",
    "optimizer = optim.AdamW([connectome.theta], lr=3e-4)"
   ]
  },
  {
   "cell_type": "code",
   "execution_count": 30,
   "id": "6a51a6e6-8ae4-401d-8829-53a4e37f546f",
   "metadata": {},
   "outputs": [
    {
     "data": {
      "text/plain": [
       "tensor[390410] x∈[-0.675, 0.710] μ=3.842e-05 σ=0.149 grad cuda:0"
      ]
     },
     "execution_count": 30,
     "metadata": {},
     "output_type": "execute_result"
    }
   ],
   "source": [
    "connectome.theta"
   ]
  },
  {
   "cell_type": "code",
   "execution_count": 31,
   "id": "52e6f6bf-3c0c-4966-93b4-d7b073acecef",
   "metadata": {},
   "outputs": [],
   "source": [
    "def loss_for_w(w):\n",
    "    loss = 0.\n",
    "    n_images = 0\n",
    "    correct = 0\n",
    "\n",
    "    raw_net = param_vec2net(w, params_shapes)\n",
    "\n",
    "    for i, data in zip(range(1), testloader):\n",
    "        images, labels = data\n",
    "\n",
    "        images, labels = images.to(device), labels.to(device)\n",
    "        outputs = raw_net.raw_forward(images)\n",
    "\n",
    "        batch_loss = criterion(outputs, labels)\n",
    "        loss += batch_loss\n",
    "\n",
    "        _, predicted = torch.max(outputs.data, 1)\n",
    "        # print('predicted',predicted)\n",
    "        n_images += labels.size(0)\n",
    "        correct += (predicted == labels).sum().item()\n",
    "    return loss"
   ]
  },
  {
   "cell_type": "code",
   "execution_count": 37,
   "id": "a87b1a13-99c9-4b4d-b910-d46546b0b363",
   "metadata": {},
   "outputs": [],
   "source": [
    "cbs = 12"
   ]
  },
  {
   "cell_type": "code",
   "execution_count": 38,
   "id": "a9384f2e-f962-46ea-8063-1443a1d00eca",
   "metadata": {},
   "outputs": [
    {
     "name": "stdout",
     "output_type": "stream",
     "text": [
      "3.70085\n",
      "1.89647\n",
      "2.58941\n",
      "1.75290\n",
      "1.05252\n",
      "1.34788\n",
      "1.94010\n",
      "0.30396\n",
      "0.51931\n",
      "1.87882\n",
      "0.65800\n",
      "0.61163\n",
      "1.02242\n",
      "0.04798\n",
      "0.01042\n",
      "1.09038\n",
      "0.38108\n",
      "0.00053\n",
      "1.78176\n",
      "0.73356\n",
      "1.40971\n",
      "1.13814\n",
      "0.12046\n",
      "0.00006\n",
      "2.23106\n",
      "0.55537\n",
      "1.29003\n",
      "1.08578\n",
      "1.34089\n",
      "0.00035\n",
      "0.00047\n",
      "0.42348\n",
      "0.33360\n",
      "0.12253\n",
      "0.94517\n",
      "1.18057\n",
      "0.87772\n",
      "0.00621\n",
      "1.97251\n",
      "0.88623\n",
      "1.14025\n",
      "0.26269\n",
      "1.30763\n",
      "0.00492\n",
      "1.17534\n",
      "0.02095\n",
      "1.01326\n",
      "2.31913\n",
      "0.00372\n",
      "0.00190\n",
      "0.58971\n",
      "0.62936\n",
      "0.01317\n",
      "0.75049\n",
      "0.78613\n",
      "0.03516\n",
      "0.00118\n",
      "0.82841\n",
      "1.09454\n",
      "0.80636\n",
      "1.95494\n",
      "0.52313\n",
      "0.00071\n",
      "0.95274\n",
      "0.43409\n",
      "0.12417\n",
      "0.53067\n",
      "1.26781\n",
      "0.89439\n",
      "0.00270\n",
      "1.66332\n",
      "0.06172\n",
      "0.30212\n",
      "0.00023\n",
      "0.10197\n",
      "1.99159\n",
      "0.00487\n",
      "0.00793\n",
      "0.50021\n",
      "0.02234\n",
      "0.02038\n",
      "0.00114\n",
      "0.00011\n",
      "2.36480\n",
      "2.20896\n",
      "0.89257\n",
      "0.00440\n",
      "0.95754\n",
      "0.66667\n",
      "0.00848\n",
      "1.94259\n",
      "0.96157\n",
      "0.00011\n",
      "0.07288\n",
      "1.42177\n",
      "0.59764\n",
      "0.00018\n",
      "0.86798\n",
      "0.00017\n",
      "0.79606\n"
     ]
    }
   ],
   "source": [
    "for _ in range(100):\n",
    "    ts = torch.rand(cbs, 1, device=device)\n",
    "    ws = connectome.phi(ts)\n",
    "    loss = 0\n",
    "    for w in ws:\n",
    "        loss = loss + loss_for_w(w)\n",
    "    \n",
    "    print(f'{loss:.5f}')\n",
    "    \n",
    "    optimizer.zero_grad()\n",
    "    loss.backward()\n",
    "    optimizer.step()"
   ]
  },
  {
   "cell_type": "code",
   "execution_count": 39,
   "id": "2862acbb-e6a1-4abb-a36a-1dd426e7d018",
   "metadata": {},
   "outputs": [],
   "source": [
    "u, v = param_vec2, param_vec3\n",
    "w1 = connectome.theta\n",
    "\n",
    "u = u - w1\n",
    "v = v - w1\n",
    "\n",
    "y = cos(u,v)\n",
    "v = v - y * u\n",
    "\n",
    "# v = F.normalize(v, dim=0)\n",
    "normal_u, normal_v = F.normalize(u, dim=0), F.normalize(v, dim=0)\n",
    "norm_of_u, norm_of_v = u.norm(), v.norm()"
   ]
  },
  {
   "cell_type": "code",
   "execution_count": null,
   "id": "238f7aa5-915b-4146-bdfe-cc6ac3aff779",
   "metadata": {},
   "outputs": [],
   "source": []
  }
 ],
 "metadata": {
  "environment": {
   "kernel": "python3",
   "name": "pytorch-gpu.1-13.m103",
   "type": "gcloud",
   "uri": "gcr.io/deeplearning-platform-release/pytorch-gpu.1-13:m103"
  },
  "kernelspec": {
   "display_name": "Python 3 (ipykernel)",
   "language": "python",
   "name": "python3"
  },
  "language_info": {
   "codemirror_mode": {
    "name": "ipython",
    "version": 3
   },
   "file_extension": ".py",
   "mimetype": "text/x-python",
   "name": "python",
   "nbconvert_exporter": "python",
   "pygments_lexer": "ipython3",
   "version": "3.7.12"
  }
 },
 "nbformat": 4,
 "nbformat_minor": 5
}
